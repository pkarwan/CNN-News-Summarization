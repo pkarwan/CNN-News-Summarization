{
 "cells": [
  {
   "cell_type": "code",
   "execution_count": 1,
   "id": "772911f7-e7a7-4dca-b2e3-baea8d7197dc",
   "metadata": {},
   "outputs": [],
   "source": [
    "def load_doc(filename):\n",
    "    # open the file as read only\n",
    "    file = open(filename, 'r', encoding='utf-8', errors='ignore')\n",
    "    # read all text\n",
    "    text = file.read()\n",
    "    # close the file\n",
    "    file.close()\n",
    "    return text"
   ]
  },
  {
   "cell_type": "code",
   "execution_count": 2,
   "id": "5532109d-6518-4623-9c9f-9b5cfe8e9328",
   "metadata": {},
   "outputs": [],
   "source": [
    "# load all stories in a directory\n",
    "def load_stories(directory):\n",
    "    for name in listdir(directory):\n",
    "        filename = directory + '/' + name\n",
    "        # load document\n",
    "        doc = load_doc(filename)"
   ]
  },
  {
   "cell_type": "code",
   "execution_count": 3,
   "id": "c2512e0d-7b58-4bfe-8efe-fcf60783bcf1",
   "metadata": {},
   "outputs": [],
   "source": [
    "# split a document into news story and highlights\n",
    "def split_story(doc):\n",
    "    # find first highlight\n",
    "    index = doc.find('@highlight')\n",
    "    # split into story and highlights\n",
    "    story, highlights = doc[:index], doc[index:].split('@highlight')\n",
    "    # strip extra white space around each highlight\n",
    "    highlights = [h.strip() for h in highlights if len(h) > 0]\n",
    "    return story, highlights"
   ]
  },
  {
   "cell_type": "code",
   "execution_count": 4,
   "id": "33ab0dc1-3acc-4f13-90b0-d070aa08b69f",
   "metadata": {},
   "outputs": [],
   "source": [
    "# load all stories in a directory\n",
    "def load_stories(directory):\n",
    "    all_stories = list()\n",
    "    for name in listdir(directory):\n",
    "        filename = directory + '/' + name\n",
    "        # load document\n",
    "        doc = load_doc(filename)\n",
    "        # split into story and highlights\n",
    "        story, highlights = split_story(doc)\n",
    "        # store\n",
    "        all_stories.append({'story':story, 'highlights':highlights})\n",
    "    return all_stories"
   ]
  },
  {
   "cell_type": "code",
   "execution_count": 5,
   "id": "a990a427-da38-4a82-ad2f-c46ac4019b69",
   "metadata": {},
   "outputs": [
    {
     "name": "stdout",
     "output_type": "stream",
     "text": [
      "Loaded Stories 92579\n"
     ]
    }
   ],
   "source": [
    "from os import listdir\n",
    "\n",
    "# load stories\n",
    "directory = 'C:\\\\Users\\\\kar_d\\\\Documents\\\\pramodini\\\\NCSU\\\\CSC-791\\\\P1-Final\\\\R0a\\\\implementation\\\\cnn_stories\\\\cnn\\\\stories\\\\'\n",
    "\n",
    "stories = load_stories(directory)\n",
    "print('Loaded Stories %d' % len(stories))"
   ]
  },
  {
   "cell_type": "code",
   "execution_count": 6,
   "id": "a3891202-725b-42ec-bd2e-0a6f63e8d652",
   "metadata": {},
   "outputs": [
    {
     "name": "stdout",
     "output_type": "stream",
     "text": [
      "(CNN) -- Police arrested another teen Thursday, the sixth suspect jailed in connection with the gang rape of a 15-year-old girl on a northern California high school campus.\n",
      "\n",
      "Jose Carlos Montano, 18, was arrested on charges of felony rape, rape in concert with force, and penetration with a foreign object, said Richmond Police Lt. Mark Gagan.\n",
      "\n",
      "Montano was arrested Thursday evening in San Pablo, California, a small town about two miles from the city of Richmond, where the crime took place.\n",
      "\n",
      "Montano, who was held in lieu of $1.3 million bail, is accused of taking part in what police said was a 2½-hour assault on the Richmond High School campus.\n",
      "\n",
      "Police said as many as 10 people were involved in the rape in a dimly lit back alley at the school, while another 10 people watched without calling 911.\n",
      "\n",
      "The victim was taken to the hospital in critical condition, but was released Wednesday.\n",
      "\n",
      "Four other teenage suspects were arraigned Thursday on charges connected to the rape.\n",
      "\n",
      "Cody Ray Smith, described by the court as older than 14, pleaded not guilty to charges of rape with a foreign object and rape by force.\n",
      "\n",
      "Two other juveniles, Ari Abdallah Morales and Marcelles James Peter, appeared with Smith at the Contra Costa County Superior Court, but did not enter a plea. The court described Morales as younger than 16, and did not give an age for Peter.\n",
      "\n",
      "All three juveniles, who wore bulletproof vests at the hearing, were charged as adults.\n",
      "\n",
      "A fourth person, Manuel Ortega, 19, appeared separately without an attorney and did not enter a plea. He did not wear a protective vest.\n",
      "\n",
      "Another person, Salvador Rodriguez, 21, was arrested Tuesday night, but he was not in court Thursday.\n",
      "\n",
      "\n",
      "['Another arrest made in gang rape outside California school', 'Investigators say up to 20 people took part or stood and watched the assault', 'Four suspects appeared in court Thursday; three wore bulletproof vests']\n"
     ]
    }
   ],
   "source": [
    "print(stories[4]['story'])\n",
    "print(stories[4]['highlights'])"
   ]
  },
  {
   "cell_type": "code",
   "execution_count": 7,
   "id": "5eee8c5c-77af-4340-80cc-b14d8982e00e",
   "metadata": {},
   "outputs": [],
   "source": [
    "dict_1 = {}\n",
    "for i in range(len(stories)):\n",
    "    dict_1.update({stories[i]['story'] : stories[i]['highlights']})"
   ]
  },
  {
   "cell_type": "code",
   "execution_count": 8,
   "id": "370c4479-fbd3-413a-a0d8-4e04c943ab65",
   "metadata": {},
   "outputs": [],
   "source": [
    "import pandas as pd\n",
    "import numpy as np\n",
    "\n",
    "## for plotting\n",
    "import matplotlib.pyplot as plt\n",
    "from matplotlib import pyplot\n",
    "\n",
    "\n",
    "## for processing\n",
    "import re\n",
    "import nltk"
   ]
  },
  {
   "cell_type": "code",
   "execution_count": 9,
   "id": "fc910ab0-e30d-4ee9-8988-8146fb0a4f86",
   "metadata": {},
   "outputs": [],
   "source": [
    "df = pd.DataFrame(dict_1.items(), columns=['story', 'highlight'])"
   ]
  },
  {
   "cell_type": "code",
   "execution_count": 10,
   "id": "f3b57536-dc34-439d-abb1-218bd2cdfafc",
   "metadata": {},
   "outputs": [
    {
     "data": {
      "text/html": [
       "<div>\n",
       "<style scoped>\n",
       "    .dataframe tbody tr th:only-of-type {\n",
       "        vertical-align: middle;\n",
       "    }\n",
       "\n",
       "    .dataframe tbody tr th {\n",
       "        vertical-align: top;\n",
       "    }\n",
       "\n",
       "    .dataframe thead th {\n",
       "        text-align: right;\n",
       "    }\n",
       "</style>\n",
       "<table border=\"1\" class=\"dataframe\">\n",
       "  <thead>\n",
       "    <tr style=\"text-align: right;\">\n",
       "      <th></th>\n",
       "      <th>story</th>\n",
       "      <th>highlight</th>\n",
       "    </tr>\n",
       "  </thead>\n",
       "  <tbody>\n",
       "    <tr>\n",
       "      <th>0</th>\n",
       "      <td>It's official: U.S. President Barack Obama wan...</td>\n",
       "      <td>[Syrian official: Obama climbed to the top of ...</td>\n",
       "    </tr>\n",
       "    <tr>\n",
       "      <th>1</th>\n",
       "      <td>(CNN) -- Usain Bolt rounded off the world cham...</td>\n",
       "      <td>[Usain Bolt wins third gold of world champions...</td>\n",
       "    </tr>\n",
       "    <tr>\n",
       "      <th>2</th>\n",
       "      <td>Kansas City, Missouri (CNN) -- The General Ser...</td>\n",
       "      <td>[The employee in agency's Kansas City office i...</td>\n",
       "    </tr>\n",
       "  </tbody>\n",
       "</table>\n",
       "</div>"
      ],
      "text/plain": [
       "                                               story  \\\n",
       "0  It's official: U.S. President Barack Obama wan...   \n",
       "1  (CNN) -- Usain Bolt rounded off the world cham...   \n",
       "2  Kansas City, Missouri (CNN) -- The General Ser...   \n",
       "\n",
       "                                           highlight  \n",
       "0  [Syrian official: Obama climbed to the top of ...  \n",
       "1  [Usain Bolt wins third gold of world champions...  \n",
       "2  [The employee in agency's Kansas City office i...  "
      ]
     },
     "execution_count": 10,
     "metadata": {},
     "output_type": "execute_result"
    }
   ],
   "source": [
    "df.head(3)"
   ]
  },
  {
   "cell_type": "code",
   "execution_count": 11,
   "id": "f52bb040-1e19-4565-bc27-c26307d3aba7",
   "metadata": {},
   "outputs": [],
   "source": [
    "def utils_preprocess_text(text, flg_stemm=False, flg_lemm=True, lst_stopwords=None):\n",
    "    ## clean (convert to lowercase and remove punctuations and characters and then strip)\n",
    "    text = re.sub(r'[^\\w\\s]', '', str(text).lower().strip())\n",
    "            \n",
    "    ## Tokenize (convert from string to list)\n",
    "    lst_text = text.split()\n",
    "            \n",
    "    ## remove Stopwords\n",
    "    if lst_stopwords is not None:\n",
    "        lst_text = [word for word in lst_text if word not in \n",
    "                    lst_stopwords]\n",
    "   \n",
    "                \n",
    "    ## Stemming (remove -ing, -ly, ...)\n",
    "    if flg_stemm == True:\n",
    "        ps = nltk.stem.porter.PorterStemmer()\n",
    "        lst_text = [ps.stem(word) for word in lst_text]\n",
    "                \n",
    "    ## Lemmatisation (convert the word into root word)\n",
    "    if flg_lemm == True:\n",
    "        lem = nltk.stem.wordnet.WordNetLemmatizer()\n",
    "        lst_text = [lem.lemmatize(word) for word in lst_text]\n",
    "            \n",
    "    ## back to string from list\n",
    "    text = \" \".join(lst_text)\n",
    "    return text"
   ]
  },
  {
   "cell_type": "code",
   "execution_count": 12,
   "id": "11d21b64-d530-4829-9eb3-83ecadb38d63",
   "metadata": {},
   "outputs": [
    {
     "data": {
      "text/html": [
       "<div>\n",
       "<style scoped>\n",
       "    .dataframe tbody tr th:only-of-type {\n",
       "        vertical-align: middle;\n",
       "    }\n",
       "\n",
       "    .dataframe tbody tr th {\n",
       "        vertical-align: top;\n",
       "    }\n",
       "\n",
       "    .dataframe thead th {\n",
       "        text-align: right;\n",
       "    }\n",
       "</style>\n",
       "<table border=\"1\" class=\"dataframe\">\n",
       "  <thead>\n",
       "    <tr style=\"text-align: right;\">\n",
       "      <th></th>\n",
       "      <th>story</th>\n",
       "      <th>highlight</th>\n",
       "      <th>clean_story</th>\n",
       "      <th>clean_highlight</th>\n",
       "    </tr>\n",
       "  </thead>\n",
       "  <tbody>\n",
       "    <tr>\n",
       "      <th>0</th>\n",
       "      <td>It's official: U.S. President Barack Obama wan...</td>\n",
       "      <td>[Syrian official: Obama climbed to the top of ...</td>\n",
       "      <td>official u president barack obama want lawmake...</td>\n",
       "      <td>syrian official obama climbed top tree doesnt ...</td>\n",
       "    </tr>\n",
       "    <tr>\n",
       "      <th>1</th>\n",
       "      <td>(CNN) -- Usain Bolt rounded off the world cham...</td>\n",
       "      <td>[Usain Bolt wins third gold of world champions...</td>\n",
       "      <td>usain bolt rounded world championship sunday c...</td>\n",
       "      <td>usain bolt win third gold world championship a...</td>\n",
       "    </tr>\n",
       "    <tr>\n",
       "      <th>2</th>\n",
       "      <td>Kansas City, Missouri (CNN) -- The General Ser...</td>\n",
       "      <td>[The employee in agency's Kansas City office i...</td>\n",
       "      <td>kansa city missouri general service administra...</td>\n",
       "      <td>employee agency kansa city office among hundre...</td>\n",
       "    </tr>\n",
       "    <tr>\n",
       "      <th>3</th>\n",
       "      <td>Los Angeles (CNN) -- A medical doctor in Vanco...</td>\n",
       "      <td>[NEW: A Canadian doctor says she was part of a...</td>\n",
       "      <td>los angeles medical doctor vancouver british c...</td>\n",
       "      <td>new canadian doctor say part team examining ha...</td>\n",
       "    </tr>\n",
       "    <tr>\n",
       "      <th>4</th>\n",
       "      <td>(CNN) -- Police arrested another teen Thursday...</td>\n",
       "      <td>[Another arrest made in gang rape outside Cali...</td>\n",
       "      <td>police arrested another teen thursday sixth su...</td>\n",
       "      <td>another arrest made gang rape outside californ...</td>\n",
       "    </tr>\n",
       "  </tbody>\n",
       "</table>\n",
       "</div>"
      ],
      "text/plain": [
       "                                               story  \\\n",
       "0  It's official: U.S. President Barack Obama wan...   \n",
       "1  (CNN) -- Usain Bolt rounded off the world cham...   \n",
       "2  Kansas City, Missouri (CNN) -- The General Ser...   \n",
       "3  Los Angeles (CNN) -- A medical doctor in Vanco...   \n",
       "4  (CNN) -- Police arrested another teen Thursday...   \n",
       "\n",
       "                                           highlight  \\\n",
       "0  [Syrian official: Obama climbed to the top of ...   \n",
       "1  [Usain Bolt wins third gold of world champions...   \n",
       "2  [The employee in agency's Kansas City office i...   \n",
       "3  [NEW: A Canadian doctor says she was part of a...   \n",
       "4  [Another arrest made in gang rape outside Cali...   \n",
       "\n",
       "                                         clean_story  \\\n",
       "0  official u president barack obama want lawmake...   \n",
       "1  usain bolt rounded world championship sunday c...   \n",
       "2  kansa city missouri general service administra...   \n",
       "3  los angeles medical doctor vancouver british c...   \n",
       "4  police arrested another teen thursday sixth su...   \n",
       "\n",
       "                                     clean_highlight  \n",
       "0  syrian official obama climbed top tree doesnt ...  \n",
       "1  usain bolt win third gold world championship a...  \n",
       "2  employee agency kansa city office among hundre...  \n",
       "3  new canadian doctor say part team examining ha...  \n",
       "4  another arrest made gang rape outside californ...  "
      ]
     },
     "execution_count": 12,
     "metadata": {},
     "output_type": "execute_result"
    }
   ],
   "source": [
    "new_stopwords = [\"(CNN) -- \",'cnn']\n",
    "df_stopwords = nltk.corpus.stopwords.words(\"english\")\n",
    "df_stopwords.extend(new_stopwords)\n",
    "\n",
    "\n",
    "\n",
    "df[\"clean_story\"] = df[\"story\"].apply(lambda x:\n",
    "                                      utils_preprocess_text(x, flg_stemm=False, flg_lemm=True,\n",
    "                                                            lst_stopwords=df_stopwords))\n",
    "df[\"clean_highlight\"] = df[\"highlight\"].apply(lambda x:\n",
    "                                                utils_preprocess_text(x, flg_stemm=False, flg_lemm=True, \n",
    "                                                                      lst_stopwords=df_stopwords))\n",
    "df.head()"
   ]
  },
  {
   "cell_type": "code",
   "execution_count": 13,
   "id": "450ddcb4-3123-456c-b2ba-28267924caa9",
   "metadata": {},
   "outputs": [
    {
     "data": {
      "text/plain": [
       "357536"
      ]
     },
     "execution_count": 13,
     "metadata": {},
     "output_type": "execute_result"
    }
   ],
   "source": [
    "df.size"
   ]
  },
  {
   "cell_type": "code",
   "execution_count": 14,
   "id": "590bbf8a-2b69-4c53-83eb-840b466a8bb9",
   "metadata": {},
   "outputs": [],
   "source": [
    "# we didn't find any duplicate or null stories in the data\n",
    "\n",
    "df.drop_duplicates(subset=['story'],inplace=True)#dropping duplicates\n",
    "df.dropna(axis=0,inplace=True)#dropping na"
   ]
  },
  {
   "cell_type": "code",
   "execution_count": 15,
   "id": "b2679887-0cb8-417f-ad3d-e9c143b2b4d0",
   "metadata": {},
   "outputs": [
    {
     "data": {
      "text/plain": [
       "357536"
      ]
     },
     "execution_count": 15,
     "metadata": {},
     "output_type": "execute_result"
    }
   ],
   "source": [
    "df.size"
   ]
  },
  {
   "cell_type": "code",
   "execution_count": 16,
   "id": "530424f8-7a44-4936-a091-44f8438d3e07",
   "metadata": {},
   "outputs": [
    {
     "data": {
      "text/plain": [
       "89384"
      ]
     },
     "execution_count": 16,
     "metadata": {},
     "output_type": "execute_result"
    }
   ],
   "source": [
    "len(df)"
   ]
  },
  {
   "cell_type": "code",
   "execution_count": 17,
   "id": "2d7cb85e-37a6-4ab3-9697-0216c7c99652",
   "metadata": {},
   "outputs": [
    {
     "data": {
      "image/png": "[encoded data removed]",
      "text/plain": [
       "<Figure size 432x288 with 2 Axes>"
      ]
     },
     "metadata": {
      "needs_background": "light"
     },
     "output_type": "display_data"
    }
   ],
   "source": [
    "story_word_count = []\n",
    "highlight_word_count = []\n",
    "\n",
    "# populate the lists with sentence lengths\n",
    "for i in df['clean_story']:\n",
    "      story_word_count.append(len(i.split()))\n",
    "\n",
    "for i in df['clean_highlight']:\n",
    "      highlight_word_count.append(len(i.split()))\n",
    "\n",
    "length_df = pd.DataFrame({'story':story_word_count, 'highlight':highlight_word_count})\n",
    "\n",
    "length_df.hist(bins = 10)\n",
    "plt.show()"
   ]
  },
  {
   "cell_type": "code",
   "execution_count": 18,
   "id": "ff6778de-6f30-4a68-aebd-ffb3c6e0b72a",
   "metadata": {},
   "outputs": [
    {
     "name": "stdout",
     "output_type": "stream",
     "text": [
      "story word cnt = 89384 and rare word cnt = 89384 \n"
     ]
    }
   ],
   "source": [
    "print(\"story word cnt = %(n)s and rare word cnt = %(b)s \" % {'n': len(story_word_count), 'b': len(highlight_word_count)})\n"
   ]
  },
  {
   "cell_type": "code",
   "execution_count": 19,
   "id": "133fa311-7fee-4365-a532-bab1387a1622",
   "metadata": {},
   "outputs": [
    {
     "name": "stdout",
     "output_type": "stream",
     "text": [
      "0.012373579164056207\n"
     ]
    }
   ],
   "source": [
    "cnt=0\n",
    "for i in df['clean_story']:\n",
    "    if(len(i.split())<=80):\n",
    "        cnt=cnt+1\n",
    "              \n",
    "print(cnt/len(df['clean_story']))"
   ]
  },
  {
   "cell_type": "code",
   "execution_count": 20,
   "id": "60eb5a60-ae33-42f2-aa61-bbf94af2985a",
   "metadata": {},
   "outputs": [
    {
     "name": "stdout",
     "output_type": "stream",
     "text": [
      "1106\n"
     ]
    }
   ],
   "source": [
    "print(cnt)"
   ]
  },
  {
   "cell_type": "code",
   "execution_count": 21,
   "id": "59562f76-eeb0-40c0-9ef3-eaf67716055b",
   "metadata": {},
   "outputs": [
    {
     "name": "stdout",
     "output_type": "stream",
     "text": [
      "0.002651481249440616\n"
     ]
    }
   ],
   "source": [
    "cnt=0\n",
    "for i in df['clean_highlight']:\n",
    "    if(len(i.split())<=10):\n",
    "        cnt=cnt+1\n",
    "print(cnt/len(df['clean_highlight']))"
   ]
  },
  {
   "cell_type": "code",
   "execution_count": 22,
   "id": "a93d0a1a-3e38-455a-8a20-6d35427dc382",
   "metadata": {},
   "outputs": [
    {
     "name": "stdout",
     "output_type": "stream",
     "text": [
      "237\n"
     ]
    }
   ],
   "source": [
    "print(cnt)"
   ]
  },
  {
   "cell_type": "code",
   "execution_count": 185,
   "id": "d78af02a-ebfc-490f-aeab-4e4ea92fb714",
   "metadata": {},
   "outputs": [],
   "source": [
    "max_story_len=1000\n",
    "max_highlight_len=150\n",
    "\n",
    "clean_story =np.array(df['clean_story'])\n",
    "clean_highlight=np.array(df['clean_highlight'])\n",
    "\n",
    "short_story=[]\n",
    "short_highlight=[]\n",
    "\n",
    "for i in range(len(clean_story)):\n",
    "    if(len(clean_highlight[i].split())<=max_highlight_len and len(clean_story[i].split())<=max_story_len):\n",
    "        short_story.append(clean_story[i])\n",
    "        short_highlight.append(clean_highlight[i])\n",
    "        \n",
    "df_1=pd.DataFrame({'story':short_story,'highlight':short_highlight})"
   ]
  },
  {
   "cell_type": "code",
   "execution_count": 186,
   "id": "d05bbe60-2dce-4056-8f40-1e3feec074b4",
   "metadata": {},
   "outputs": [
    {
     "data": {
      "text/plain": [
       "178362"
      ]
     },
     "execution_count": 186,
     "metadata": {},
     "output_type": "execute_result"
    }
   ],
   "source": [
    "df_1.size"
   ]
  },
  {
   "cell_type": "code",
   "execution_count": 187,
   "id": "7545bb94-cf6c-406d-aa71-70d908e4cfe5",
   "metadata": {},
   "outputs": [
    {
     "data": {
      "text/plain": [
       "89181"
      ]
     },
     "execution_count": 187,
     "metadata": {},
     "output_type": "execute_result"
    }
   ],
   "source": [
    "len(df_1)"
   ]
  },
  {
   "cell_type": "code",
   "execution_count": 188,
   "id": "50260474-bffa-4cbb-afcd-c4f002efcd81",
   "metadata": {},
   "outputs": [],
   "source": [
    "df_1['highlight'] = df_1['highlight'].apply(lambda x : 'sostok '+ x + ' eostok')"
   ]
  },
  {
   "cell_type": "code",
   "execution_count": 189,
   "id": "c1df3faa-3521-4c0a-8e68-462e6c6ba673",
   "metadata": {},
   "outputs": [
    {
     "name": "stdout",
     "output_type": "stream",
     "text": [
      "story: official u president barack obama want lawmaker weigh whether use military force syria obama sent letter head house senate saturday night hour announcing belief military action syrian target right step take alleged use chemical weapon proposed legislation obama asks congress approve use military force deter disrupt prevent degrade potential future us chemical weapon weapon mass destruction step set turn international crisis fierce domestic political battle key question looming debate un weapon inspector find syria happens congress vote syrian government react televised address white house rose garden earlier saturday president said would take case congress want believe authority carry military action without specific congressional authorization know country stronger take course action even effective said debate issue big business usual obama said top congressional leader agreed schedule debate body return washington september 9 senate foreign relation committee hold hearing matter tuesday sen robert menendez said transcript read obamas full remark syrian crisis latest development un inspector leave syria obamas remark came shortly un inspector left syria carrying evidence determine whether chemical weapon used attack early last week damascus suburb aim game mandate clear ascertain whether chemical weapon used un spokesman martin nesirky told reporter saturday used weapon reported toxic gas attack damascus suburb august 21 key point global debate syrian crisis top u official said there doubt syrian government behind syrian official denied responsibility blamed jihadist fighting rebel british u intelligence report say attack involved chemical weapon un official stressed importance waiting official report inspector inspector share finding un secretarygeneral ban kimoon ban said want wait un team final report completed presenting un security council organization prohibition chemical weapon nine inspector belong said saturday could take three week analyze evidence collected need time able analyze information sample nesirky said noted ban repeatedly said alternative political solution crisis syria military solution option bergen syria problem hell u obama menace must confronted obamas senior adviser debated next step take president comment saturday came amid mounting political pressure situation syria u lawmaker called immediate action others warn stepping could become quagmire global leader expressed support british parliament vote military action earlier week blow obamas hope getting strong backing key nato ally saturday obama proposed said would limited military action syrian president bashar alassad military attack would openended include u ground force said syria alleged use chemical weapon earlier month assault human dignity president said failure respond force obama argued could lead escalating use chemical weapon proliferation terrorist group would people harm world many danger menace must confronted syria missile strike would happen next map u allied asset around syria obama decision came friday night friday night president made lastminute decision consult lawmaker happen vote unclear senior administration official told obama authority act without congress even congress reject request authorization use force obama saturday continued shore support strike alassad government spoke phone french president francois hollande rose garden speech two leader agreed international community must deliver resolute message assad regime others would consider using chemical weapon crime unacceptable violate international norm held accountable world white house said meanwhile uncertainty loomed congress would weigh u military official said remained ready 5 key assertion u intelligence report syria syria want chemical weapon horror reaction mixed obamas speech spokesman syrian national coalition said opposition group disappointed obamas announcement fear lack action could embolden regime repeat attack serious way said spokesman louay safi quite concerned member congress applauded obamas decision house speaker john boehner majority leader eric cantor majority whip kevin mccarthy conference chair cathy mcmorris rodgers issued statement saturday praising president constitution responsibility declare war lie congress republican lawmaker said glad president seeking authorization military action syria response serious substantive question raised 160 legislator including 63 obamas fellow democrat signed letter calling either vote least full debate u action british prime minister david cameron whose attempt get lawmaker country support military action syria failed earlier week responded obamas speech twitter post saturday understand support barack obamas position syria cameron said influential lawmaker russia stood syria criticized united state theory main reason obama turning congress military operation get enough support either world among ally u united state alexei pushkov chairman internationalaffairs committee russian state duma said twitter post united state scattered group antiwar protester around country took street saturday like many americanswere tired united state getting involved invading bombing country said robin rosecrans among hundred los angeles demonstration syria neighbor think russia china iran stand assad syria government unfazed obamas speech military political analyst syrian state tv said obama embarrassed russia opposes military action syria cry help someone come rescue facing two defeat political military level syria prime minister appeared unfazed saberrattling syrian army status maximum readiness finger trigger confront challenge wael nader alhalqi said meeting delegation syrian expatriate italy according banner syria state tv broadcast prior obamas address anchor syrian state television said obama appeared preparing aggression syria based repeated lie top syrian diplomat told state television network obama facing pressure take military action israel turkey arab rightwing extremist united state think done well cameron term taking issue parliament said bashar jaafari syria ambassador united nation obama cameron said climbed top tree dont know get syrian government denied used chemical weapon august 21 attack saying jihadist fighting rebel used effort turn global sentiment british intelligence put number people killed attack 350 saturday obama said told well 1000 people murdered u secretary state john kerry friday cited death toll 1429 400 child explanation offered discrepancy iran u military action syria would spark disaster opinion strike syria bad idea\n",
      "highlight: sostok syrian official obama climbed top tree doesnt know get obama sends letter head house senate obama seek congressional approval military action syria aim determine whether cw used say un spokesman eostok\n",
      "\n",
      "\n",
      "story: usain bolt rounded world championship sunday claiming third gold moscow anchored jamaica victory men 4x100m relay fastest man world charged clear united state rival justin gatlin jamaican quartet nesta carter kemar baileycole nickel ashmeade bolt 3736 second u finished second 3756 second canada taking bronze britain disqualified faulty handover 26yearold bolt collected eight gold medal world championship equaling record held american trio carl lewis michael johnson allyson felix mention small matter six olympic title relay triumph followed individual success 100 200 meter russian capital im proud ill continue work dominate long possible bolt said previously expressed intention carry 2016 rio olympics victory never seriously doubt got baton safely hand ashmeade gatlin united state third leg runner rakieem salaam problem gatlin strayed lane struggled get full control baton never able get term bolt earlier jamaica woman underlined dominance sprint event winning 4x100m relay gold anchored shellyann fraserpryce like bolt completing triple quartet recorded championship record 4129 second well clear france crossed line second place 4273 second defending champion united state initially back bronze medal position losing time second handover alexandria anderson english gardner promoted silver france subsequently disqualified illegal handover british quartet initially fourth promoted bronze eluded men team fraserpryce like bolt aged 26 became first woman achieve three gold 100200 relay final action last day championship france teddy tamgho became third man leap 18m triple jump exceeding mark four centimeter take gold germany christina obergfoll finally took gold global level woman javelin five previous silver kenya asbel kiprop easily tactical men 1500m final kiprops compatriot eunice jepkoech sum surprise winner woman 800m bolt final dash golden glory brought eightday championship rousing finale host topped medal table united state criticism poor attendance luzhniki stadium concern pole vault gold medalist yelena isinbayeva made controversial remark support russia new law make propagandizing nontraditional sexual relation among minor criminal offense later attempted clarify comment renewed call gay right group boycott 2014 winter game sochi next major sport event russia\n",
      "highlight: sostok usain bolt win third gold world championship anchor jamaica 4x100m relay victory eighth gold championship bolt jamaica double woman 4x100m relay eostok\n",
      "\n",
      "\n",
      "story: kansa city missouri general service administration already investigation lavish spending allowed employee telecommute hawaii even though based gsa kansa city missouri office investigation found cost 24000 business development specialist travel mainland united state past year among several hundred gsa virtual worker also travel various conference home office costing agency million dollar past three year program employee work home may live another state region theyre actually assigned kansa city employee started job january 2011 paid 84440 work home honolulu gsa representative confirmed past year according gsa travel record employee flown back mainland nine time conference meeting four trip st louis four washington side trip cincinnati one san diego total cost taxpayer 24221 jason klumb gsa regional administrator kansa city defended hire cost travel included consideration candidacy employee compared applicant klumb said factoring determined best candidate even light cost would incurred klumb called gsa teleworking program successful program thats going lead cost saving taxpayer gsa spokeswoman said going defend type travel gsa employee kansa city requested anonymity said hiring someone hawaii work kansa city region ludicrous doesnt make sense employee said consider everything need hire someone would better look someone kansa city area would reduced cost travel least 70 percent look airfare take honolulu washington dc lot business done dan tangherlini appointed acting gsa administrator year said agency examining cost entire teleworking program think important part gsa think make sure open avail smart people country also make sure clear business case said someone working nebraska reporting boston clear explanation value theyre providing youve got give business case youve got explain thats costeffective move american people thats new standard asking everyone gsa adhere gsa virtual employee program different telework program offered many private company including cnns parent company turner broadcasting employee encouraged work home day week partially reduce traffic congestion house committee oversight government reform requested detail gsa teleworking program june followed disclosure 95 virtual employee including 12 supervisory position spent nearly 750000 travel cost october 2010 june 2011 american people right know federal bureaucrat enjoy benefit virtual work eligible responsible steward taxpayer dollar support program according letter committee chairman rep darrell issa rcalifornia gsa detail requested issa gsa program provided committee also requested information two month ago federal freedom information act repeatedly told gsa foia staff member finished compiling material general service administration 12600 employee 263 billion budget relatively obscure federal agency handle government real estate nonmilitary procurement congress launched investigation gsa scathing inspector general report issued year showed lavish spending 823000 agency western region conference la vega october 2010 controversy became politically toxic report video clip lavish conference released revelation prompted taxpayer indignation embarrassed administration put spotlight wasteful spending gsa jeff neely gsa official organized conference resigned agency administrator martha johnson two johnson deputy fired eight employee left agency tangherlini former treasury department official took acting gsa administrator addition la vega conference gsa apparently spent 330000 relocate employee denver hawaii probably million employee twoyear period according transcript interview gsa event planner 84 gsa employee supervisor senior staff subject inspector general investigation still collecting bonus totaling 1 million taxpayer money july investigation revealed gsa kansa city office spent 20000 send employee cooking class build team spirit class amount significant sum money world trilliondollar government budget insider said part freespending culture went year gsa kansa city regional headquarters gsa spokeswoman betsaida alcantara said statement year agency practice topdown review cnns sara anwar elizabeth nunez tom cohen contributed report watch erin burnett weekday 7pm et latest erin burnett click\n",
      "highlight: sostok employee agency kansa city office among hundred virtual worker employee travel mainland u last year cost 24000 telecommuting program like gsa practice review eostok\n",
      "\n",
      "\n"
     ]
    }
   ],
   "source": [
    "for i in range(3):\n",
    "    print(\"story:\",df_1['story'][i])\n",
    "    print(\"highlight:\",df_1['highlight'][i])\n",
    "    print(\"\\n\")"
   ]
  },
  {
   "cell_type": "code",
   "execution_count": 190,
   "id": "ae4afa96-7624-407e-abd8-8df30b4d3012",
   "metadata": {},
   "outputs": [],
   "source": [
    "from sklearn.model_selection import train_test_split\n",
    "x_tr,x_val,y_tr,y_val=train_test_split(np.array(df_1['story']),np.array(df_1['highlight']),test_size=0.002,train_size=0.008,random_state=42,shuffle=True) "
   ]
  },
  {
   "cell_type": "code",
   "execution_count": 191,
   "id": "169e6468-9544-4c61-9412-0689643ee3d1",
   "metadata": {},
   "outputs": [
    {
     "data": {
      "text/plain": [
       "178362"
      ]
     },
     "execution_count": 191,
     "metadata": {},
     "output_type": "execute_result"
    }
   ],
   "source": [
    "df_1.size"
   ]
  },
  {
   "cell_type": "code",
   "execution_count": 192,
   "id": "4f5e7004-0267-4e2c-bd86-b619fd0fdf2f",
   "metadata": {},
   "outputs": [
    {
     "data": {
      "text/plain": [
       "89181"
      ]
     },
     "execution_count": 192,
     "metadata": {},
     "output_type": "execute_result"
    }
   ],
   "source": [
    "len(np.array(df_1['story']))"
   ]
  },
  {
   "cell_type": "code",
   "execution_count": 193,
   "id": "58c626f6-c2ec-443e-927e-185732c535ab",
   "metadata": {},
   "outputs": [
    {
     "name": "stdout",
     "output_type": "stream",
     "text": [
      "(713,) (713,) (179,) (179,)\n"
     ]
    }
   ],
   "source": [
    "print(x_tr.shape, y_tr.shape, x_val.shape, y_val.shape)"
   ]
  },
  {
   "cell_type": "code",
   "execution_count": 194,
   "id": "cb3e07c6-ed69-4768-836b-ececd67ac9e5",
   "metadata": {},
   "outputs": [],
   "source": [
    "from keras.preprocessing.text import Tokenizer \n",
    "\n",
    "x_tokenizer = Tokenizer() \n",
    "x_tokenizer.fit_on_texts(list(x_tr))"
   ]
  },
  {
   "cell_type": "code",
   "execution_count": 195,
   "id": "3ed2fa52-35ac-41f5-9b17-3208249c451b",
   "metadata": {},
   "outputs": [
    {
     "name": "stdout",
     "output_type": "stream",
     "text": [
      "% of rare words in vocabulary: 72.48297167528939\n",
      "Total Coverage of rare words: 12.10124455982286\n"
     ]
    }
   ],
   "source": [
    "thresh=5\n",
    "\n",
    "cnt=0\n",
    "tot_cnt=0\n",
    "freq=0\n",
    "tot_freq=0\n",
    "\n",
    "for key,value in x_tokenizer.word_counts.items():\n",
    "    tot_cnt=tot_cnt+1\n",
    "    tot_freq=tot_freq+value\n",
    "    if(value<thresh):\n",
    "        cnt=cnt+1\n",
    "        freq=freq+value\n",
    "    \n",
    "print(\"% of rare words in vocabulary:\",(cnt/tot_cnt)*100)\n",
    "print(\"Total Coverage of rare words:\",(freq/tot_freq)*100)"
   ]
  },
  {
   "cell_type": "markdown",
   "id": "056bfe95-6df3-4dca-ac3d-6526ff26b63e",
   "metadata": {},
   "source": [
    "<p style=\"color:tomato;\">Tokenize the text again by considering the total number of words minus the rare occurrences. Convert text to numbers and pad them all to the same length.</p>\n",
    "First, a Tokenizer instance is fitted (fit_on_texts) to the corpus creating a vocabulary index based on word frequency. Every word is mapped to an index, so every word gets a unique integer value, lower integer means more frequent words. The size of words to keep is defined by the num_words parameter, i.e, vocabulary size. \n",
    "The sentences from the input are then mapped to integers using the tokenizer.texts_to_sequences\n",
    "Lastly, in order to create embeddings, all of our sentences need to be of same length. Hence, we use the pad_sequencesto pad each sentence with zero."
   ]
  },
  {
   "cell_type": "code",
   "execution_count": 196,
   "id": "da50ad12-84a3-43e1-b5d4-95a47a708522",
   "metadata": {},
   "outputs": [],
   "source": [
    "from keras.preprocessing.sequence import pad_sequences\n",
    "\n",
    "#prepare a tokenizer for reviews on training data\n",
    "x_tokenizer = Tokenizer(num_words=tot_cnt-cnt) \n",
    "x_tokenizer.fit_on_texts(list(x_tr))\n",
    "\n",
    "#convert text sequences into integer sequences\n",
    "x_tr_seq    =   x_tokenizer.texts_to_sequences(x_tr) \n",
    "x_val_seq   =   x_tokenizer.texts_to_sequences(x_val)\n",
    "\n",
    "#padding zero upto maximum length\n",
    "x_tr    =   pad_sequences(x_tr_seq,  maxlen=max_story_len, padding='post')\n",
    "x_val   =   pad_sequences(x_val_seq, maxlen=max_story_len, padding='post')\n",
    "\n",
    "#size of vocabulary ( +1 for padding token)\n",
    "x_voc   =  x_tokenizer.num_words + 1"
   ]
  },
  {
   "cell_type": "code",
   "execution_count": 197,
   "id": "76d7b88c-36c2-4ff3-8ca7-6f6e13b3d410",
   "metadata": {},
   "outputs": [
    {
     "name": "stdout",
     "output_type": "stream",
     "text": [
      "Size of vocabulary in X = 7394\n"
     ]
    }
   ],
   "source": [
    "print(\"Size of vocabulary in X = {}\".format(x_voc))"
   ]
  },
  {
   "cell_type": "code",
   "execution_count": 198,
   "id": "5bafa37c-657c-41f4-95ad-afa82b18a27d",
   "metadata": {},
   "outputs": [],
   "source": [
    "y_tokenizer = Tokenizer()\n",
    "y_tokenizer.fit_on_texts(list(y_tr))"
   ]
  },
  {
   "cell_type": "code",
   "execution_count": 199,
   "id": "0d34b921-55c1-4ca9-9166-c7adc02a7a40",
   "metadata": {},
   "outputs": [
    {
     "name": "stdout",
     "output_type": "stream",
     "text": [
      "% of rare words in vocabulary: 85.61011904761905\n",
      "Total Coverage of rare words: 41.92906861120318\n"
     ]
    }
   ],
   "source": [
    "thresh=5\n",
    "\n",
    "cnt=0\n",
    "tot_cnt=0\n",
    "freq=0\n",
    "tot_freq=0\n",
    "\n",
    "for key,value in y_tokenizer.word_counts.items():\n",
    "    tot_cnt=tot_cnt+1\n",
    "    tot_freq=tot_freq+value\n",
    "    if(value<thresh):\n",
    "        cnt=cnt+1\n",
    "        freq=freq+value\n",
    "    \n",
    "print(\"% of rare words in vocabulary:\",(cnt/tot_cnt)*100)\n",
    "print(\"Total Coverage of rare words:\",(freq/tot_freq)*100)"
   ]
  },
  {
   "cell_type": "code",
   "execution_count": 200,
   "id": "880b43b1-90d1-468f-b65e-c6259f7ad2fc",
   "metadata": {},
   "outputs": [],
   "source": [
    "#prepare a tokenizer for summaries on training data\n",
    "y_tokenizer = Tokenizer(num_words=tot_cnt-cnt) \n",
    "y_tokenizer.fit_on_texts(list(y_tr))\n",
    "\n",
    "#convert text sequences into integer sequences\n",
    "y_tr_seq    =   y_tokenizer.texts_to_sequences(y_tr) \n",
    "y_val_seq   =   y_tokenizer.texts_to_sequences(y_val) \n",
    "\n",
    "#padding zero upto maximum length\n",
    "y_tr    =   pad_sequences(y_tr_seq, maxlen=max_highlight_len, padding='post')\n",
    "y_val   =   pad_sequences(y_val_seq, maxlen=max_highlight_len, padding='post')\n",
    "\n",
    "#size of vocabulary\n",
    "y_voc  =   y_tokenizer.num_words +1"
   ]
  },
  {
   "cell_type": "code",
   "execution_count": 201,
   "id": "37ba431a-af3d-4763-b61b-9f16a741695e",
   "metadata": {},
   "outputs": [
    {
     "name": "stdout",
     "output_type": "stream",
     "text": [
      "Size of vocabulary in Y = 968\n"
     ]
    }
   ],
   "source": [
    "print(\"Size of vocabulary in Y = {}\".format(y_voc))"
   ]
  },
  {
   "cell_type": "code",
   "execution_count": 202,
   "id": "e0f1fd3c-2c9e-4b06-a679-f46677c3e390",
   "metadata": {},
   "outputs": [
    {
     "data": {
      "text/plain": [
       "(713, 713)"
      ]
     },
     "execution_count": 202,
     "metadata": {},
     "output_type": "execute_result"
    }
   ],
   "source": [
    "y_tokenizer.word_counts['sostok'],len(y_tr)"
   ]
  },
  {
   "cell_type": "code",
   "execution_count": 203,
   "id": "b3b3bcec-35eb-4245-b9d1-9c036c2877f0",
   "metadata": {},
   "outputs": [],
   "source": [
    "ind=[]\n",
    "for i in range(len(y_tr)):\n",
    "    cnt=0\n",
    "    for j in y_tr[i]:\n",
    "        if j!=0:\n",
    "            cnt=cnt+1\n",
    "    if(cnt==2):\n",
    "        ind.append(i)\n",
    "\n",
    "y_tr=np.delete(y_tr,ind, axis=0)\n",
    "x_tr=np.delete(x_tr,ind, axis=0)"
   ]
  },
  {
   "cell_type": "code",
   "execution_count": 204,
   "id": "5ac4b30a-e3e8-4568-907e-55ecdbea198a",
   "metadata": {},
   "outputs": [],
   "source": [
    "ind=[]\n",
    "for i in range(len(y_val)):\n",
    "    cnt=0\n",
    "    for j in y_val[i]:\n",
    "        if j!=0:\n",
    "            cnt=cnt+1\n",
    "    if(cnt==2):\n",
    "        ind.append(i)\n",
    "\n",
    "y_val=np.delete(y_val,ind, axis=0)\n",
    "x_val=np.delete(x_val,ind, axis=0)"
   ]
  },
  {
   "cell_type": "code",
   "execution_count": 205,
   "id": "1d2696d3-e5a2-4644-99a4-c8441ee09e7f",
   "metadata": {},
   "outputs": [
    {
     "name": "stdout",
     "output_type": "stream",
     "text": [
      "(712, 1000) (712, 150) (179, 1000) (179, 150)\n"
     ]
    }
   ],
   "source": [
    "print(x_tr.shape, y_tr.shape, x_val.shape, y_val.shape)"
   ]
  },
  {
   "cell_type": "code",
   "execution_count": 206,
   "id": "372b3fd5-9b02-4d3a-8dcb-34e51558d7b5",
   "metadata": {},
   "outputs": [],
   "source": [
    "import numpy as np\n",
    "import pandas as pd\n",
    "import re\n",
    "from bs4 import BeautifulSoup\n",
    "from keras.preprocessing.text import Tokenizer\n",
    "from keras.preprocessing.sequence import pad_sequences\n",
    "from keras.layers import Input, LSTM, Embedding, Dense, Concatenate, TimeDistributed, Bidirectional\n",
    "from keras.models import Model\n",
    "from keras.callbacks import EarlyStopping, ModelCheckpoint\n",
    "import warnings\n",
    "pd.set_option(\"display.max_colwidth\", 200)\n",
    "warnings.filterwarnings(\"ignore\")"
   ]
  },
  {
   "cell_type": "code",
   "execution_count": 207,
   "id": "741801fb-a54b-4fd8-83fb-b1b74272b80a",
   "metadata": {},
   "outputs": [],
   "source": [
    "import tensorflow as tf\n",
    "logger = tf.get_logger()\n",
    "\n",
    "class AttentionLayer(tf.keras.layers.Layer):\n",
    "    \"\"\"\n",
    "    This class implements attention (https://arxiv.org/pdf/1409.0473.pdf).\n",
    "    There are three sets of weights introduced W_a, U_a, and V_a\n",
    "     \"\"\"\n",
    "\n",
    "    def __init__(self, **kwargs):\n",
    "        super(AttentionLayer, self).__init__(**kwargs)\n",
    "\n",
    "    def build(self, input_shape):\n",
    "        assert isinstance(input_shape, list)\n",
    "        # Create a trainable weight variable for this layer.\n",
    "\n",
    "        self.W_a = self.add_weight(name='W_a',\n",
    "                                   shape=tf.TensorShape((input_shape[0][2], input_shape[0][2])),\n",
    "                                   initializer='uniform',\n",
    "                                   trainable=True)\n",
    "        self.U_a = self.add_weight(name='U_a',\n",
    "                                   shape=tf.TensorShape((input_shape[1][2], input_shape[0][2])),\n",
    "                                   initializer='uniform',\n",
    "                                   trainable=True)\n",
    "        self.V_a = self.add_weight(name='V_a',\n",
    "                                   shape=tf.TensorShape((input_shape[0][2], 1)),\n",
    "                                   initializer='uniform',\n",
    "                                   trainable=True)\n",
    "\n",
    "        super(AttentionLayer, self).build(input_shape)  # Be sure to call this at the end\n",
    "\n",
    "    def call(self, inputs):\n",
    "        \"\"\"\n",
    "        inputs: [encoder_output_sequence, decoder_output_sequence]\n",
    "        \"\"\"\n",
    "        assert type(inputs) == list\n",
    "        encoder_out_seq, decoder_out_seq = inputs\n",
    "\n",
    "        logger.debug(f\"encoder_out_seq.shape = {encoder_out_seq.shape}\")\n",
    "        logger.debug(f\"decoder_out_seq.shape = {decoder_out_seq.shape}\")\n",
    "\n",
    "        def energy_step(inputs, states):\n",
    "            \"\"\" Step function for computing energy for a single decoder state\n",
    "            inputs: (batchsize * 1 * de_in_dim)\n",
    "            states: (batchsize * 1 * de_latent_dim)\n",
    "            \"\"\"\n",
    "\n",
    "            logger.debug(\"Running energy computation step\")\n",
    "\n",
    "            if not isinstance(states, (list, tuple)):\n",
    "                raise TypeError(f\"States must be an iterable. Got {states} of type {type(states)}\")\n",
    "\n",
    "            encoder_full_seq = states[-1]\n",
    "\n",
    "            \"\"\" Computing S.Wa where S=[s0, s1, ..., si]\"\"\"\n",
    "            # <= batch size * en_seq_len * latent_dim\n",
    "            W_a_dot_s = K.dot(encoder_full_seq, self.W_a)\n",
    "\n",
    "            \"\"\" Computing hj.Ua \"\"\"\n",
    "            U_a_dot_h = K.expand_dims(K.dot(inputs, self.U_a), 1)  # <= batch_size, 1, latent_dim\n",
    "\n",
    "            logger.debug(f\"U_a_dot_h.shape = {U_a_dot_h.shape}\")\n",
    "\n",
    "            \"\"\" tanh(S.Wa + hj.Ua) \"\"\"\n",
    "            # <= batch_size*en_seq_len, latent_dim\n",
    "            Ws_plus_Uh = K.tanh(W_a_dot_s + U_a_dot_h)\n",
    "\n",
    "            logger.debug(f\"Ws_plus_Uh.shape = {Ws_plus_Uh.shape}\")\n",
    "\n",
    "            \"\"\" softmax(va.tanh(S.Wa + hj.Ua)) \"\"\"\n",
    "            # <= batch_size, en_seq_len\n",
    "            e_i = K.squeeze(K.dot(Ws_plus_Uh, self.V_a), axis=-1)\n",
    "            # <= batch_size, en_seq_len\n",
    "            e_i = K.softmax(e_i)\n",
    "\n",
    "            logger.debug(f\"ei.shape = {e_i.shape}\")\n",
    "\n",
    "            return e_i, [e_i]\n",
    "\n",
    "        def context_step(inputs, states):\n",
    "            \"\"\" Step function for computing ci using ei \"\"\"\n",
    "\n",
    "            logger.debug(\"Running attention vector computation step\")\n",
    "\n",
    "            if not isinstance(states, (list, tuple)):\n",
    "                raise TypeError(f\"States must be an iterable. Got {states} of type {type(states)}\")\n",
    "\n",
    "            encoder_full_seq = states[-1]\n",
    "\n",
    "            # <= batch_size, hidden_size\n",
    "            c_i = K.sum(encoder_full_seq * K.expand_dims(inputs, -1), axis=1)\n",
    "\n",
    "            logger.debug(f\"ci.shape = {c_i.shape}\")\n",
    "\n",
    "            return c_i, [c_i]\n",
    "\n",
    "        # we don't maintain states between steps when computing attention\n",
    "        # attention is stateless, so we're passing a fake state for RNN step function\n",
    "        fake_state_c = K.sum(encoder_out_seq, axis=1)\n",
    "        fake_state_e = K.sum(encoder_out_seq, axis=2)  # <= (batch_size, enc_seq_len, latent_dim"
   ]
  },
  {
   "cell_type": "code",
   "execution_count": 208,
   "id": "217a89b7-0147-4866-94b9-699a998915e0",
   "metadata": {},
   "outputs": [],
   "source": [
    "from attention import AttentionLayer\n",
    "from keras import backend as K \n",
    "K.clear_session()\n",
    "\n",
    "latent_dim = 500\n",
    "#embedding_dim=100\n",
    "\n",
    "# Encoder\n",
    "encoder_inputs = Input(shape=(max_story_len,))\n",
    "\n",
    "#embedding layer\n",
    "enc_emb =  Embedding(x_voc, latent_dim,trainable=True)(encoder_inputs)\n",
    "\n",
    "#encoder lstm 1\n",
    "encoder_lstm1 = LSTM(latent_dim,return_sequences=True,return_state=True)\n",
    "encoder_output1, state_h1, state_c1 = encoder_lstm1(enc_emb)\n",
    "\n",
    "#encoder lstm 2\n",
    "encoder_lstm2 = LSTM(latent_dim,return_sequences=True,return_state=True)\n",
    "encoder_output2, state_h2, state_c2 = encoder_lstm2(encoder_output1)\n",
    "\n",
    "#encoder lstm 3\n",
    "encoder_lstm3=LSTM(latent_dim, return_state=True, return_sequences=True)\n",
    "encoder_outputs, state_h, state_c= encoder_lstm3(encoder_output2)\n",
    "\n",
    "# Set up the decoder, using `encoder_states` as initial state.\n",
    "decoder_inputs = Input(shape=(None,))\n",
    "\n",
    "#embedding layer\n",
    "dec_emb_layer = Embedding(y_voc, latent_dim,trainable=True)\n",
    "dec_emb = dec_emb_layer(decoder_inputs)\n",
    "\n",
    "decoder_lstm = LSTM(latent_dim, return_sequences=True, return_state=True)\n",
    "decoder_outputs,decoder_fwd_state, decoder_back_state = decoder_lstm(dec_emb,initial_state=[state_h, state_c])\n",
    "\n",
    "# Attention layer\n",
    "attn_layer = AttentionLayer(name='attention_layer')\n",
    "attn_out, attn_states = attn_layer([encoder_outputs, decoder_outputs])\n",
    "\n",
    "# Concat attention input and decoder LSTM output\n",
    "decoder_concat_input = Concatenate(axis=-1, name='concat_layer')([decoder_outputs, attn_out])\n",
    "\n",
    "#dense layer\n",
    "decoder_dense =  TimeDistributed(Dense(y_voc, activation='softmax'))\n",
    "decoder_outputs = decoder_dense(decoder_concat_input)\n"
   ]
  },
  {
   "cell_type": "code",
   "execution_count": 47,
   "id": "64ca2c87-1208-4032-9fe9-2751a5baccc9",
   "metadata": {},
   "outputs": [
    {
     "name": "stdout",
     "output_type": "stream",
     "text": [
      "Model: \"functional_1\"\n",
      "__________________________________________________________________________________________________\n",
      "Layer (type)                    Output Shape         Param #     Connected to                     \n",
      "==================================================================================================\n",
      "input_1 (InputLayer)            [(None, 1000)]       0                                            \n",
      "__________________________________________________________________________________________________\n",
      "embedding (Embedding)           (None, 1000, 500)    3697000     input_1[0][0]                    \n",
      "__________________________________________________________________________________________________\n",
      "lstm (LSTM)                     [(None, 1000, 500),  2002000     embedding[0][0]                  \n",
      "__________________________________________________________________________________________________\n",
      "input_2 (InputLayer)            [(None, None)]       0                                            \n",
      "__________________________________________________________________________________________________\n",
      "lstm_1 (LSTM)                   [(None, 1000, 500),  2002000     lstm[0][0]                       \n",
      "__________________________________________________________________________________________________\n",
      "embedding_1 (Embedding)         (None, None, 500)    484000      input_2[0][0]                    \n",
      "__________________________________________________________________________________________________\n",
      "lstm_2 (LSTM)                   [(None, 1000, 500),  2002000     lstm_1[0][0]                     \n",
      "__________________________________________________________________________________________________\n",
      "lstm_3 (LSTM)                   [(None, None, 500),  2002000     embedding_1[0][0]                \n",
      "                                                                 lstm_2[0][1]                     \n",
      "                                                                 lstm_2[0][2]                     \n",
      "__________________________________________________________________________________________________\n",
      "attention_layer (AttentionLayer ((None, None, 500),  500500      lstm_2[0][0]                     \n",
      "                                                                 lstm_3[0][0]                     \n",
      "__________________________________________________________________________________________________\n",
      "concat_layer (Concatenate)      (None, None, 1000)   0           lstm_3[0][0]                     \n",
      "                                                                 attention_layer[0][0]            \n",
      "__________________________________________________________________________________________________\n",
      "time_distributed (TimeDistribut (None, None, 968)    968968      concat_layer[0][0]               \n",
      "==================================================================================================\n",
      "Total params: 13,658,468\n",
      "Trainable params: 13,658,468\n",
      "Non-trainable params: 0\n",
      "__________________________________________________________________________________________________\n"
     ]
    }
   ],
   "source": [
    "# Define the model \n",
    "model = Model([encoder_inputs, decoder_inputs], decoder_outputs)\n",
    "\n",
    "model.summary()"
   ]
  },
  {
   "cell_type": "code",
   "execution_count": 48,
   "id": "8c7762f6-4924-4c14-9bc1-075de62e55f4",
   "metadata": {},
   "outputs": [],
   "source": [
    "model.compile(optimizer='rmsprop', loss='sparse_categorical_crossentropy')"
   ]
  },
  {
   "cell_type": "code",
   "execution_count": 49,
   "id": "dfa4b4a1-8f1d-4a79-a0a7-b1f8efe7f92c",
   "metadata": {},
   "outputs": [],
   "source": [
    "es = [EarlyStopping(monitor='val_loss', mode='min', verbose=1,patience=2), \n",
    "      ModelCheckpoint('./MyModel_tf',monitor='val_loss', verbose=1,\n",
    "                      save_best_only=True, mode='min', save_weights_only = False)]"
   ]
  },
  {
   "cell_type": "code",
   "execution_count": 50,
   "id": "3f842c44-550d-4a3c-801e-8e252b49dac1",
   "metadata": {},
   "outputs": [
    {
     "name": "stdout",
     "output_type": "stream",
     "text": [
      "Epoch 1/20\n",
      "15/15 [==============================] - ETA: 0s - loss: 1.5637  \n",
      "Epoch 00001: val_loss improved from inf to 0.66499, saving model to .\\MyModel_tf\n",
      "WARNING:tensorflow:From C:\\Users\\kar_d\\anaconda3\\lib\\site-packages\\tensorflow\\python\\training\\tracking\\tracking.py:111: Model.state_updates (from tensorflow.python.keras.engine.training) is deprecated and will be removed in a future version.\n",
      "Instructions for updating:\n",
      "This property should not be used in TensorFlow 2.0, as updates are applied automatically.\n",
      "WARNING:tensorflow:From C:\\Users\\kar_d\\anaconda3\\lib\\site-packages\\tensorflow\\python\\training\\tracking\\tracking.py:111: Layer.updates (from tensorflow.python.keras.engine.base_layer) is deprecated and will be removed in a future version.\n",
      "Instructions for updating:\n",
      "This property should not be used in TensorFlow 2.0, as updates are applied automatically.\n",
      "INFO:tensorflow:Assets written to: .\\MyModel_tf\\assets\n",
      "15/15 [==============================] - 3009s 201s/step - loss: 1.5637 - val_loss: 0.6650\n",
      "Epoch 2/20\n",
      "15/15 [==============================] - ETA: 0s - loss: 0.7325  \n",
      "Epoch 00002: val_loss improved from 0.66499 to 0.65298, saving model to .\\MyModel_tf\n",
      "INFO:tensorflow:Assets written to: .\\MyModel_tf\\assets\n",
      "15/15 [==============================] - 4680s 312s/step - loss: 0.7325 - val_loss: 0.6530\n",
      "Epoch 3/20\n",
      "15/15 [==============================] - ETA: 0s - loss: 0.7173  \n",
      "Epoch 00003: val_loss improved from 0.65298 to 0.64000, saving model to .\\MyModel_tf\n",
      "INFO:tensorflow:Assets written to: .\\MyModel_tf\\assets\n",
      "15/15 [==============================] - 5064s 338s/step - loss: 0.7173 - val_loss: 0.6400\n",
      "Epoch 4/20\n",
      "15/15 [==============================] - ETA: 0s - loss: 0.6998  \n",
      "Epoch 00004: val_loss improved from 0.64000 to 0.63132, saving model to .\\MyModel_tf\n",
      "INFO:tensorflow:Assets written to: .\\MyModel_tf\\assets\n",
      "15/15 [==============================] - 5343s 356s/step - loss: 0.6998 - val_loss: 0.6313\n",
      "Epoch 5/20\n",
      "15/15 [==============================] - ETA: 0s - loss: 0.6907  \n",
      "Epoch 00005: val_loss improved from 0.63132 to 0.62291, saving model to .\\MyModel_tf\n",
      "INFO:tensorflow:Assets written to: .\\MyModel_tf\\assets\n",
      "15/15 [==============================] - 5706s 380s/step - loss: 0.6907 - val_loss: 0.6229\n",
      "Epoch 6/20\n",
      "15/15 [==============================] - ETA: 0s - loss: 0.6842  \n",
      "Epoch 00006: val_loss did not improve from 0.62291\n",
      "15/15 [==============================] - 5661s 377s/step - loss: 0.6842 - val_loss: 0.6233\n",
      "Epoch 7/20\n",
      "15/15 [==============================] - ETA: 0s - loss: 0.6802  \n",
      "Epoch 00007: val_loss did not improve from 0.62291\n",
      "15/15 [==============================] - 5893s 393s/step - loss: 0.6802 - val_loss: 0.6241\n",
      "Epoch 00007: early stopping\n"
     ]
    }
   ],
   "source": [
    "history=model.fit([x_tr,y_tr[:,:-1]], y_tr.reshape(y_tr.shape[0],y_tr.shape[1], 1)[:,1:] ,epochs=20,callbacks=[es],batch_size=50, validation_data=([x_val,y_val[:,:-1]], y_val.reshape(y_val.shape[0],y_val.shape[1], 1)[:,1:]))"
   ]
  },
  {
   "cell_type": "code",
   "execution_count": 51,
   "id": "0e75e272-e2c1-4a22-ae44-7ff3a6f0707b",
   "metadata": {},
   "outputs": [
    {
     "data": {
      "image/png": "[encoded data removed]",
      "text/plain": [
       "<Figure size 432x288 with 1 Axes>"
      ]
     },
     "metadata": {
      "needs_background": "light"
     },
     "output_type": "display_data"
    }
   ],
   "source": [
    "from matplotlib import pyplot\n",
    "\n",
    "pyplot.plot(history.history['loss'], label='train')\n",
    "pyplot.plot(history.history['val_loss'], label='test')\n",
    "pyplot.legend()\n",
    "pyplot.show()"
   ]
  },
  {
   "cell_type": "code",
   "execution_count": null,
   "id": "4d9d99ed-ba7c-4591-91c1-1976536e3732",
   "metadata": {},
   "outputs": [],
   "source": [
    " "
   ]
  },
  {
   "cell_type": "markdown",
   "id": "3fe1de67-d619-46b3-b046-27bd6a5e2b25",
   "metadata": {},
   "source": [
    "Using DropOut Rate"
   ]
  },
  {
   "cell_type": "code",
   "execution_count": 49,
   "id": "b6e6238b-62ed-40a1-b4d2-9bb52d16d1fd",
   "metadata": {},
   "outputs": [],
   "source": [
    "# Encoder\n",
    "encoder_inputs = Input(shape=(max_story_len,))\n",
    "\n",
    "#embedding layer\n",
    "enc_emb =  Embedding(x_voc, latent_dim,trainable=True)(encoder_inputs)\n",
    "\n",
    "#encoder lstm 1\n",
    "encoder_lstm1 = LSTM(latent_dim,return_sequences=True,return_state=True,dropout=0.4,recurrent_dropout=0.4)\n",
    "encoder_output1, state_h1, state_c1 = encoder_lstm1(enc_emb)\n",
    "\n",
    "#encoder lstm 2\n",
    "encoder_lstm2 = LSTM(latent_dim,return_sequences=True,return_state=True,dropout=0.4,recurrent_dropout=0.4)\n",
    "encoder_output2, state_h2, state_c2 = encoder_lstm2(encoder_output1)\n",
    "\n",
    "#encoder lstm 3\n",
    "encoder_lstm3=LSTM(latent_dim, return_state=True, return_sequences=True,dropout=0.4,recurrent_dropout=0.4)\n",
    "encoder_outputs, state_h, state_c= encoder_lstm3(encoder_output2)\n",
    "\n",
    "# Set up the decoder, using `encoder_states` as initial state.\n",
    "decoder_inputs = Input(shape=(None,))\n",
    "\n",
    "#embedding layer\n",
    "dec_emb_layer = Embedding(y_voc, latent_dim,trainable=True)\n",
    "dec_emb = dec_emb_layer(decoder_inputs)\n",
    "\n",
    "decoder_lstm = LSTM(latent_dim, return_sequences=True, return_state=True,dropout=0.4,recurrent_dropout=0.2)\n",
    "decoder_outputs,decoder_fwd_state, decoder_back_state = decoder_lstm(dec_emb,initial_state=[state_h, state_c])\n",
    "\n",
    "# Attention layer\n",
    "attn_layer = AttentionLayer(name='attention_layer')\n",
    "attn_out, attn_states = attn_layer([encoder_outputs, decoder_outputs])\n",
    "\n",
    "# Concat attention input and decoder LSTM output\n",
    "decoder_concat_input = Concatenate(axis=-1, name='concat_layer')([decoder_outputs, attn_out])\n",
    "\n",
    "#dense layer\n",
    "decoder_dense =  TimeDistributed(Dense(y_voc, activation='softmax'))\n",
    "decoder_outputs = decoder_dense(decoder_concat_input)"
   ]
  },
  {
   "cell_type": "code",
   "execution_count": 48,
   "id": "233b8b4c-dfb7-4054-a22e-a9336b89e0d0",
   "metadata": {},
   "outputs": [
    {
     "name": "stdout",
     "output_type": "stream",
     "text": [
      "Model: \"functional_1\"\n",
      "__________________________________________________________________________________________________\n",
      "Layer (type)                    Output Shape         Param #     Connected to                     \n",
      "==================================================================================================\n",
      "input_1 (InputLayer)            [(None, 1000)]       0                                            \n",
      "__________________________________________________________________________________________________\n",
      "embedding (Embedding)           (None, 1000, 500)    3697000     input_1[0][0]                    \n",
      "__________________________________________________________________________________________________\n",
      "lstm (LSTM)                     [(None, 1000, 500),  2002000     embedding[0][0]                  \n",
      "__________________________________________________________________________________________________\n",
      "input_2 (InputLayer)            [(None, None)]       0                                            \n",
      "__________________________________________________________________________________________________\n",
      "lstm_1 (LSTM)                   [(None, 1000, 500),  2002000     lstm[0][0]                       \n",
      "__________________________________________________________________________________________________\n",
      "embedding_1 (Embedding)         (None, None, 500)    484000      input_2[0][0]                    \n",
      "__________________________________________________________________________________________________\n",
      "lstm_2 (LSTM)                   [(None, 1000, 500),  2002000     lstm_1[0][0]                     \n",
      "__________________________________________________________________________________________________\n",
      "lstm_3 (LSTM)                   [(None, None, 500),  2002000     embedding_1[0][0]                \n",
      "                                                                 lstm_2[0][1]                     \n",
      "                                                                 lstm_2[0][2]                     \n",
      "__________________________________________________________________________________________________\n",
      "attention_layer (AttentionLayer ((None, None, 500),  500500      lstm_2[0][0]                     \n",
      "                                                                 lstm_3[0][0]                     \n",
      "__________________________________________________________________________________________________\n",
      "concat_layer (Concatenate)      (None, None, 1000)   0           lstm_3[0][0]                     \n",
      "                                                                 attention_layer[0][0]            \n",
      "__________________________________________________________________________________________________\n",
      "time_distributed (TimeDistribut (None, None, 968)    968968      concat_layer[0][0]               \n",
      "==================================================================================================\n",
      "Total params: 13,658,468\n",
      "Trainable params: 13,658,468\n",
      "Non-trainable params: 0\n",
      "__________________________________________________________________________________________________\n"
     ]
    }
   ],
   "source": [
    "# Define the model \n",
    "model_dropout = Model([encoder_inputs, decoder_inputs], decoder_outputs)\n",
    "\n",
    "model_dropout.summary()"
   ]
  },
  {
   "cell_type": "code",
   "execution_count": 49,
   "id": "7847bb7e-7696-4561-8bc0-b6516b8b4630",
   "metadata": {},
   "outputs": [],
   "source": [
    "model_dropout.compile(optimizer='rmsprop', loss='sparse_categorical_crossentropy')"
   ]
  },
  {
   "cell_type": "code",
   "execution_count": 50,
   "id": "8cce61ff-9544-453f-9a37-67007d5e0376",
   "metadata": {},
   "outputs": [],
   "source": [
    "es = [EarlyStopping(monitor='val_loss', mode='min', verbose=1,patience=2), \n",
    "      ModelCheckpoint('./MyModelDropout_tf',monitor='val_loss', verbose=1,\n",
    "                      save_best_only=True, mode='min', save_weights_only = False)]"
   ]
  },
  {
   "cell_type": "code",
   "execution_count": 51,
   "id": "4c1ebf68-3a5b-4af6-8ccc-f748c6669a83",
   "metadata": {},
   "outputs": [
    {
     "name": "stdout",
     "output_type": "stream",
     "text": [
      "Epoch 1/20\n",
      "15/15 [==============================] - ETA: 0s - loss: 1.4721  \n",
      "Epoch 00001: val_loss improved from inf to 0.67330, saving model to .\\MyModelDropout_tf\n",
      "WARNING:tensorflow:From C:\\Users\\kar_d\\anaconda3\\lib\\site-packages\\tensorflow\\python\\training\\tracking\\tracking.py:111: Model.state_updates (from tensorflow.python.keras.engine.training) is deprecated and will be removed in a future version.\n",
      "Instructions for updating:\n",
      "This property should not be used in TensorFlow 2.0, as updates are applied automatically.\n",
      "WARNING:tensorflow:From C:\\Users\\kar_d\\anaconda3\\lib\\site-packages\\tensorflow\\python\\training\\tracking\\tracking.py:111: Layer.updates (from tensorflow.python.keras.engine.base_layer) is deprecated and will be removed in a future version.\n",
      "Instructions for updating:\n",
      "This property should not be used in TensorFlow 2.0, as updates are applied automatically.\n",
      "INFO:tensorflow:Assets written to: .\\MyModelDropout_tf\\assets\n",
      "15/15 [==============================] - 3095s 206s/step - loss: 1.4721 - val_loss: 0.6733\n",
      "Epoch 2/20\n",
      "15/15 [==============================] - ETA: 0s - loss: 0.7385  \n",
      "Epoch 00002: val_loss improved from 0.67330 to 0.65397, saving model to .\\MyModelDropout_tf\n",
      "INFO:tensorflow:Assets written to: .\\MyModelDropout_tf\\assets\n",
      "15/15 [==============================] - 5131s 342s/step - loss: 0.7385 - val_loss: 0.6540\n",
      "Epoch 3/20\n",
      "15/15 [==============================] - ETA: 0s - loss: 0.7205   \n",
      "Epoch 00003: val_loss improved from 0.65397 to 0.64029, saving model to .\\MyModelDropout_tf\n",
      "INFO:tensorflow:Assets written to: .\\MyModelDropout_tf\\assets\n",
      "15/15 [==============================] - 11895s 793s/step - loss: 0.7205 - val_loss: 0.6403\n",
      "Epoch 4/20\n",
      "15/15 [==============================] - ETA: 0s - loss: 0.7022  \n",
      "Epoch 00004: val_loss improved from 0.64029 to 0.63309, saving model to .\\MyModelDropout_tf\n",
      "INFO:tensorflow:Assets written to: .\\MyModelDropout_tf\\assets\n",
      "15/15 [==============================] - 5699s 380s/step - loss: 0.7022 - val_loss: 0.6331\n",
      "Epoch 5/20\n",
      "15/15 [==============================] - ETA: 0s - loss: 0.6912  \n",
      "Epoch 00005: val_loss improved from 0.63309 to 0.62587, saving model to .\\MyModelDropout_tf\n",
      "INFO:tensorflow:Assets written to: .\\MyModelDropout_tf\\assets\n",
      "15/15 [==============================] - 6147s 410s/step - loss: 0.6912 - val_loss: 0.6259\n",
      "Epoch 6/20\n",
      "15/15 [==============================] - ETA: 0s - loss: 0.6850  \n",
      "Epoch 00006: val_loss improved from 0.62587 to 0.62112, saving model to .\\MyModelDropout_tf\n",
      "INFO:tensorflow:Assets written to: .\\MyModelDropout_tf\\assets\n",
      "15/15 [==============================] - 6126s 408s/step - loss: 0.6850 - val_loss: 0.6211\n",
      "Epoch 7/20\n",
      "15/15 [==============================] - ETA: 0s - loss: 0.6791  \n",
      "Epoch 00007: val_loss did not improve from 0.62112\n",
      "15/15 [==============================] - 5941s 396s/step - loss: 0.6791 - val_loss: 0.6300\n",
      "Epoch 8/20\n",
      "15/15 [==============================] - ETA: 0s - loss: 0.6744  \n",
      "Epoch 00008: val_loss did not improve from 0.62112\n",
      "15/15 [==============================] - 6102s 407s/step - loss: 0.6744 - val_loss: 0.6278\n",
      "Epoch 00008: early stopping\n"
     ]
    }
   ],
   "source": [
    "history_dropout=model_dropout.fit([x_tr,y_tr[:,:-1]], y_tr.reshape(y_tr.shape[0],y_tr.shape[1], 1)[:,1:] ,epochs=20,callbacks=[es],batch_size=50, validation_data=([x_val,y_val[:,:-1]], y_val.reshape(y_val.shape[0],y_val.shape[1], 1)[:,1:]))"
   ]
  },
  {
   "cell_type": "code",
   "execution_count": 100,
   "id": "4f6df7fb-c3b3-4164-bca3-a8b75524f984",
   "metadata": {},
   "outputs": [
    {
     "data": {
      "image/png": "[encoded data removed]",
      "text/plain": [
       "<Figure size 432x288 with 1 Axes>"
      ]
     },
     "metadata": {
      "needs_background": "light"
     },
     "output_type": "display_data"
    }
   ],
   "source": [
    "pyplot.plot(history_dropout.history['loss'], label='train')\n",
    "pyplot.plot(history_dropout.history['val_loss'], label='test')\n",
    "pyplot.legend()\n",
    "pyplot.show()"
   ]
  },
  {
   "cell_type": "code",
   "execution_count": 82,
   "id": "542b8d5c-b8e3-4ec0-bfe0-bae6d84d0957",
   "metadata": {},
   "outputs": [],
   "source": [
    "latent_dim = 300\n",
    "embedding_dim=100\n",
    "max_story_len = 300\n",
    "max_heighlight_len = 80\n",
    "# Encoder\n",
    "encoder_inputs = Input(shape=(max_story_len,))\n",
    "\n",
    "#embedding layer\n",
    "enc_emb =  Embedding(x_voc, embedding_dim,trainable=True)(encoder_inputs)\n",
    "\n",
    "#encoder lstm 1\n",
    "encoder_lstm1 = LSTM(latent_dim,return_sequences=True,return_state=True,dropout=0.2,recurrent_dropout=0.2)\n",
    "encoder_output1, state_h1, state_c1 = encoder_lstm1(enc_emb)\n",
    "\n",
    "#encoder lstm 2\n",
    "encoder_lstm2 = LSTM(latent_dim,return_sequences=True,return_state=True,dropout=0.2,recurrent_dropout=0.2)\n",
    "encoder_output2, state_h2, state_c2 = encoder_lstm2(encoder_output1)\n",
    "\n",
    "#encoder lstm 3\n",
    "encoder_lstm3=LSTM(latent_dim, return_state=True, return_sequences=True,dropout=0.2,recurrent_dropout=0.2)\n",
    "encoder_outputs, state_h, state_c= encoder_lstm3(encoder_output2)\n",
    "\n",
    "# Set up the decoder, using `encoder_states` as initial state.\n",
    "decoder_inputs = Input(shape=(None,))\n",
    "\n",
    "#embedding layer\n",
    "dec_emb_layer = Embedding(y_voc, latent_dim,trainable=True)\n",
    "dec_emb = dec_emb_layer(decoder_inputs)\n",
    "\n",
    "decoder_lstm = LSTM(latent_dim, return_sequences=True, return_state=True,dropout=0.2,recurrent_dropout=0.2)\n",
    "decoder_outputs,decoder_fwd_state, decoder_back_state = decoder_lstm(dec_emb,initial_state=[state_h, state_c])\n",
    "\n",
    "# Attention layer\n",
    "attn_layer = AttentionLayer(name='attention_layer')\n",
    "attn_out, attn_states = attn_layer([encoder_outputs, decoder_outputs])\n",
    "\n",
    "# Concat attention input and decoder LSTM output\n",
    "decoder_concat_input = Concatenate(axis=-1, name='concat_layer')([decoder_outputs, attn_out])\n",
    "\n",
    "#dense layer\n",
    "decoder_dense =  TimeDistributed(Dense(y_voc, activation='softmax'))\n",
    "decoder_outputs = decoder_dense(decoder_concat_input)"
   ]
  },
  {
   "cell_type": "code",
   "execution_count": 83,
   "id": "0e509f0e-351e-4963-b069-e5661f3385c6",
   "metadata": {},
   "outputs": [
    {
     "name": "stdout",
     "output_type": "stream",
     "text": [
      "Model: \"functional_7\"\n",
      "__________________________________________________________________________________________________\n",
      "Layer (type)                    Output Shape         Param #     Connected to                     \n",
      "==================================================================================================\n",
      "input_6 (InputLayer)            [(None, 300)]        0                                            \n",
      "__________________________________________________________________________________________________\n",
      "embedding_2 (Embedding)         (None, 300, 100)     739400      input_6[0][0]                    \n",
      "__________________________________________________________________________________________________\n",
      "lstm_4 (LSTM)                   [(None, 300, 300), ( 481200      embedding_2[0][0]                \n",
      "__________________________________________________________________________________________________\n",
      "input_7 (InputLayer)            [(None, None)]       0                                            \n",
      "__________________________________________________________________________________________________\n",
      "lstm_5 (LSTM)                   [(None, 300, 300), ( 721200      lstm_4[0][0]                     \n",
      "__________________________________________________________________________________________________\n",
      "embedding_3 (Embedding)         (None, None, 300)    290400      input_7[0][0]                    \n",
      "__________________________________________________________________________________________________\n",
      "lstm_6 (LSTM)                   [(None, 300, 300), ( 721200      lstm_5[0][0]                     \n",
      "__________________________________________________________________________________________________\n",
      "lstm_7 (LSTM)                   [(None, None, 300),  721200      embedding_3[0][0]                \n",
      "                                                                 lstm_6[0][1]                     \n",
      "                                                                 lstm_6[0][2]                     \n",
      "__________________________________________________________________________________________________\n",
      "attention_layer (AttentionLayer ((None, None, 300),  180300      lstm_6[0][0]                     \n",
      "                                                                 lstm_7[0][0]                     \n",
      "__________________________________________________________________________________________________\n",
      "concat_layer (Concatenate)      (None, None, 600)    0           lstm_7[0][0]                     \n",
      "                                                                 attention_layer[0][0]            \n",
      "__________________________________________________________________________________________________\n",
      "time_distributed_1 (TimeDistrib (None, None, 968)    581768      concat_layer[0][0]               \n",
      "==================================================================================================\n",
      "Total params: 4,436,668\n",
      "Trainable params: 4,436,668\n",
      "Non-trainable params: 0\n",
      "__________________________________________________________________________________________________\n"
     ]
    }
   ],
   "source": [
    "# Define the model \n",
    "model_dropout_1 = Model([encoder_inputs, decoder_inputs], decoder_outputs)\n",
    "\n",
    "model_dropout_1.summary()"
   ]
  },
  {
   "cell_type": "code",
   "execution_count": 84,
   "id": "a6f1e870-08c3-4b24-ace8-7989feaf3723",
   "metadata": {},
   "outputs": [],
   "source": [
    "model_dropout_1.compile(optimizer='rmsprop', loss='sparse_categorical_crossentropy')"
   ]
  },
  {
   "cell_type": "code",
   "execution_count": 85,
   "id": "606d0f37-693b-4871-8b98-0cb12ff901c1",
   "metadata": {},
   "outputs": [],
   "source": [
    "es = [EarlyStopping(monitor='val_loss', mode='min', verbose=1,patience=2), \n",
    "      ModelCheckpoint('./MyModelDropout_1_tf',monitor='val_loss', verbose=1,\n",
    "                      save_best_only=True, mode='min', save_weights_only = False)]"
   ]
  },
  {
   "cell_type": "code",
   "execution_count": null,
   "id": "adb716be-9430-488c-b9c8-e19ae5ab6bc9",
   "metadata": {},
   "outputs": [],
   "source": [
    "history_dropout_1=model_dropout_1.fit([x_tr,y_tr[:,:-1]], y_tr.reshape(y_tr.shape[0],y_tr.shape[1], 1)[:,1:] ,epochs=20,callbacks=[es],batch_size=50, validation_data=([x_val,y_val[:,:-1]], y_val.reshape(y_val.shape[0],y_val.shape[1], 1)[:,1:]))"
   ]
  },
  {
   "cell_type": "code",
   "execution_count": null,
   "id": "d0852014-5de4-43d5-86f6-46c44d7bd7cc",
   "metadata": {},
   "outputs": [],
   "source": [
    "pyplot.plot(history_dropout_1.history['loss'], label='train')\n",
    "pyplot.plot(history_dropout_1.history['val_loss'], label='test')\n",
    "pyplot.legend()\n",
    "pyplot.show()"
   ]
  },
  {
   "cell_type": "markdown",
   "id": "173b25cf-09f5-4c5d-9c9e-83856216e63d",
   "metadata": {},
   "source": [
    "## Using Adam Optimizer"
   ]
  },
  {
   "cell_type": "code",
   "execution_count": 48,
   "id": "3644c011-6580-410d-9767-d582e92aa8f9",
   "metadata": {},
   "outputs": [
    {
     "name": "stdout",
     "output_type": "stream",
     "text": [
      "Model: \"functional_1\"\n",
      "__________________________________________________________________________________________________\n",
      "Layer (type)                    Output Shape         Param #     Connected to                     \n",
      "==================================================================================================\n",
      "input_1 (InputLayer)            [(None, 1000)]       0                                            \n",
      "__________________________________________________________________________________________________\n",
      "embedding (Embedding)           (None, 1000, 500)    3697000     input_1[0][0]                    \n",
      "__________________________________________________________________________________________________\n",
      "lstm (LSTM)                     [(None, 1000, 500),  2002000     embedding[0][0]                  \n",
      "__________________________________________________________________________________________________\n",
      "input_2 (InputLayer)            [(None, None)]       0                                            \n",
      "__________________________________________________________________________________________________\n",
      "lstm_1 (LSTM)                   [(None, 1000, 500),  2002000     lstm[0][0]                       \n",
      "__________________________________________________________________________________________________\n",
      "embedding_1 (Embedding)         (None, None, 500)    484000      input_2[0][0]                    \n",
      "__________________________________________________________________________________________________\n",
      "lstm_2 (LSTM)                   [(None, 1000, 500),  2002000     lstm_1[0][0]                     \n",
      "__________________________________________________________________________________________________\n",
      "lstm_3 (LSTM)                   [(None, None, 500),  2002000     embedding_1[0][0]                \n",
      "                                                                 lstm_2[0][1]                     \n",
      "                                                                 lstm_2[0][2]                     \n",
      "__________________________________________________________________________________________________\n",
      "attention_layer (AttentionLayer ((None, None, 500),  500500      lstm_2[0][0]                     \n",
      "                                                                 lstm_3[0][0]                     \n",
      "__________________________________________________________________________________________________\n",
      "concat_layer (Concatenate)      (None, None, 1000)   0           lstm_3[0][0]                     \n",
      "                                                                 attention_layer[0][0]            \n",
      "__________________________________________________________________________________________________\n",
      "time_distributed (TimeDistribut (None, None, 968)    968968      concat_layer[0][0]               \n",
      "==================================================================================================\n",
      "Total params: 13,658,468\n",
      "Trainable params: 13,658,468\n",
      "Non-trainable params: 0\n",
      "__________________________________________________________________________________________________\n"
     ]
    }
   ],
   "source": [
    "# Define the model \n",
    "model_dropout_adam = Model([encoder_inputs, decoder_inputs], decoder_outputs)\n",
    "\n",
    "model_dropout_adam.summary()"
   ]
  },
  {
   "cell_type": "code",
   "execution_count": 49,
   "id": "7128dded-b73d-40f0-818f-ba618178fae3",
   "metadata": {},
   "outputs": [],
   "source": [
    "from keras.optimizers import Adam\n",
    "model_dropout_adam.compile(optimizer=Adam(lr=0.005), loss='sparse_categorical_crossentropy')"
   ]
  },
  {
   "cell_type": "code",
   "execution_count": 50,
   "id": "50d07359-cf70-47d1-88af-f880db8ca9d4",
   "metadata": {},
   "outputs": [],
   "source": [
    "es = [EarlyStopping(monitor='val_loss', mode='min', verbose=1,patience=2), \n",
    "      ModelCheckpoint('./MyModelDropout_adam_tf',monitor='val_loss', verbose=1,\n",
    "                      save_best_only=True, mode='min', save_weights_only = False)]"
   ]
  },
  {
   "cell_type": "code",
   "execution_count": 52,
   "id": "f163fb13-3af6-4ec3-9044-011b579e82b2",
   "metadata": {},
   "outputs": [
    {
     "name": "stdout",
     "output_type": "stream",
     "text": [
      "Epoch 1/20\n",
      "15/15 [==============================] - ETA: 0s - loss: 0.7505  \n",
      "Epoch 00001: val_loss improved from 0.68407 to 0.64677, saving model to .\\MyModelDropout_adam_tf\n",
      "INFO:tensorflow:Assets written to: .\\MyModelDropout_adam_tf\\assets\n",
      "15/15 [==============================] - 4001s 267s/step - loss: 0.7505 - val_loss: 0.6468\n",
      "Epoch 2/20\n",
      "15/15 [==============================] - ETA: 0s - loss: 0.7205  \n",
      "Epoch 00002: val_loss improved from 0.64677 to 0.63229, saving model to .\\MyModelDropout_adam_tf\n",
      "INFO:tensorflow:Assets written to: .\\MyModelDropout_adam_tf\\assets\n",
      "15/15 [==============================] - 4572s 305s/step - loss: 0.7205 - val_loss: 0.6323\n",
      "Epoch 3/20\n",
      "15/15 [==============================] - ETA: 0s - loss: 0.7082  \n",
      "Epoch 00003: val_loss improved from 0.63229 to 0.63094, saving model to .\\MyModelDropout_adam_tf\n",
      "INFO:tensorflow:Assets written to: .\\MyModelDropout_adam_tf\\assets\n",
      "15/15 [==============================] - 5032s 335s/step - loss: 0.7082 - val_loss: 0.6309\n",
      "Epoch 4/20\n",
      "15/15 [==============================] - ETA: 0s - loss: 0.6981  \n",
      "Epoch 00004: val_loss did not improve from 0.63094\n",
      "15/15 [==============================] - 5298s 353s/step - loss: 0.6981 - val_loss: 0.6315\n",
      "Epoch 5/20\n",
      "15/15 [==============================] - ETA: 0s - loss: 0.6893  \n",
      "Epoch 00005: val_loss did not improve from 0.63094\n",
      "15/15 [==============================] - 5703s 380s/step - loss: 0.6893 - val_loss: 0.6367\n",
      "Epoch 00005: early stopping\n"
     ]
    }
   ],
   "source": [
    "history_dropout_adam=model_dropout_adam.fit([x_tr,y_tr[:,:-1]], y_tr.reshape(y_tr.shape[0],y_tr.shape[1], 1)[:,1:] ,epochs=20,callbacks=[es],batch_size=50, validation_data=([x_val,y_val[:,:-1]], y_val.reshape(y_val.shape[0],y_val.shape[1], 1)[:,1:]))"
   ]
  },
  {
   "cell_type": "code",
   "execution_count": 53,
   "id": "09ea78f4-8569-4e9f-8d6e-b08b4d214228",
   "metadata": {},
   "outputs": [
    {
     "data": {
      "image/png": "[encoded data removed]",
      "text/plain": [
       "<Figure size 432x288 with 1 Axes>"
      ]
     },
     "metadata": {
      "needs_background": "light"
     },
     "output_type": "display_data"
    }
   ],
   "source": [
    "pyplot.plot(history_dropout_adam.history['loss'], label='train')\n",
    "pyplot.plot(history_dropout_adam.history['val_loss'], label='test')\n",
    "pyplot.legend()\n",
    "pyplot.show()"
   ]
  },
  {
   "cell_type": "markdown",
   "id": "dc170ffc-0af8-4db8-a57a-19327057f633",
   "metadata": {},
   "source": [
    "Set up the inference for the encoder and decoder:"
   ]
  },
  {
   "cell_type": "markdown",
   "id": "246ae250-69de-4109-92c3-018841c0a2bf",
   "metadata": {},
   "source": [
    "convert the index to word for summaries and reviews vocabulary"
   ]
  },
  {
   "cell_type": "code",
   "execution_count": 209,
   "id": "bf2be328-a9d0-4284-b109-59242abc2de5",
   "metadata": {},
   "outputs": [],
   "source": [
    "reverse_target_word_index=y_tokenizer.index_word\n",
    "reverse_source_word_index=x_tokenizer.index_word\n",
    "target_word_index=y_tokenizer.word_index"
   ]
  },
  {
   "cell_type": "markdown",
   "id": "4dd24ca6-6e99-4f99-9505-4c51dc4a22f3",
   "metadata": {},
   "source": [
    "Setting up the inference for the encoder and decoder"
   ]
  },
  {
   "cell_type": "code",
   "execution_count": 210,
   "id": "7edf643b-74d8-4e2a-bc8c-9ecb97a3c802",
   "metadata": {},
   "outputs": [],
   "source": [
    "# Encode the input sequence to get the feature vector\n",
    "encoder_model = Model(inputs=encoder_inputs,outputs=[encoder_outputs, state_h, state_c])\n",
    "\n",
    "# Decoder setup\n",
    "# Below tensors will hold the states of the previous time step\n",
    "decoder_state_input_h = Input(shape=(latent_dim,))\n",
    "decoder_state_input_c = Input(shape=(latent_dim,))\n",
    "decoder_hidden_state_input = Input(shape=(max_story_len,latent_dim))\n",
    "\n",
    "# Get the embeddings of the decoder sequence\n",
    "dec_emb2= dec_emb_layer(decoder_inputs) \n",
    "# To predict the next word in the sequence, set the initial states to the states from the previous time step\n",
    "decoder_outputs2, state_h2, state_c2 = decoder_lstm(dec_emb2, initial_state=[decoder_state_input_h, decoder_state_input_c])\n",
    "\n",
    "#attention inference\n",
    "attn_out_inf, attn_states_inf = attn_layer([decoder_hidden_state_input, decoder_outputs2])\n",
    "decoder_inf_concat = Concatenate(axis=-1, name='concat')([decoder_outputs2, attn_out_inf])\n",
    "\n",
    "# A dense softmax layer to generate prob dist. over the target vocabulary\n",
    "decoder_outputs2 = decoder_dense(decoder_inf_concat) \n",
    "\n",
    "# Final decoder model\n",
    "decoder_model = Model(\n",
    "    [decoder_inputs] + [decoder_hidden_state_input,decoder_state_input_h, decoder_state_input_c],\n",
    "    [decoder_outputs2] + [state_h2, state_c2])"
   ]
  },
  {
   "cell_type": "markdown",
   "id": "de63bc78-b87a-478a-9c27-19472754a553",
   "metadata": {},
   "source": [
    "Defining a function for implementation of the inference process"
   ]
  },
  {
   "cell_type": "code",
   "execution_count": 211,
   "id": "6df1a28e-6c5a-411e-a90f-5a9ed5a08b1b",
   "metadata": {},
   "outputs": [],
   "source": [
    "def decode_sequence(input_seq):\n",
    "    # Encode the input as state vectors.\n",
    "    e_out, e_h, e_c = encoder_model.predict(input_seq)\n",
    "    \n",
    "    # Generate empty target sequence of length 1.\n",
    "    target_seq = np.zeros((1,1))\n",
    "    \n",
    "    # Populate the first word of target sequence with the start word.\n",
    "    target_seq[0, 0] = target_word_index['sostok']\n",
    "\n",
    "    stop_condition = False\n",
    "    decoded_sentence = ''\n",
    "    while not stop_condition:\n",
    "      \n",
    "        output_tokens, h, c = decoder_model.predict([target_seq] + [e_out, e_h, e_c])\n",
    "                # Sample a token\n",
    "        sampled_token_index = np.argmax(output_tokens[0, -1, 2:]) + 2\n",
    "        sampled_token = reverse_target_word_index[sampled_token_index]\n",
    "        #print(sampled_token)\n",
    "        \n",
    "        if(sampled_token!='eostok'):\n",
    "            decoded_sentence += ' '+sampled_token\n",
    "\n",
    "        # Exit condition: either hit max length or find stop word.\n",
    "        if (sampled_token == 'eostok'  or len(decoded_sentence.split()) >= (max_highlight_len-1)):\n",
    "            stop_condition = True\n",
    "\n",
    "        # Update the target sequence (of length 1).\n",
    "        target_seq = np.zeros((1,1))\n",
    "        target_seq[0, 0] = sampled_token_index\n",
    "\n",
    "        # Update internal states\n",
    "        e_h, e_c = h, c\n",
    "\n",
    "    return decoded_sentence\n"
   ]
  },
  {
   "cell_type": "markdown",
   "id": "c2a7916d-4888-4146-8593-4d94e7c3e8cd",
   "metadata": {},
   "source": [
    "converting an integer sequence to a word sequence for summaries and reviews"
   ]
  },
  {
   "cell_type": "code",
   "execution_count": 212,
   "id": "51c6f215-5134-43d8-848e-769675cbbc90",
   "metadata": {},
   "outputs": [],
   "source": [
    "def seq2summary(input_seq):\n",
    "    newString=''\n",
    "    for i in input_seq:\n",
    "        if((i!=0 and i!=target_word_index['sostok']) and i!=target_word_index['eostok']):\n",
    "            newString=newString+reverse_target_word_index[i]+' '\n",
    "    return newString\n",
    "\n",
    "def seq2text(input_seq):\n",
    "    newString=''\n",
    "    for i in input_seq:\n",
    "        if(i!=0):\n",
    "            newString=newString+reverse_source_word_index[i]+' '\n",
    "    return newString"
   ]
  },
  {
   "cell_type": "markdown",
   "id": "53f1aa42-42c0-4262-a33c-ba67a90a1540",
   "metadata": {},
   "source": [
    "## Results"
   ]
  },
  {
   "cell_type": "code",
   "execution_count": 213,
   "id": "b87ae22b-144d-4d61-ae9e-c577b1fbfa36",
   "metadata": {},
   "outputs": [],
   "source": [
    "reverse_target_word_index=y_tokenizer.index_word\n",
    "reverse_source_word_index=x_tokenizer.index_word\n",
    "target_word_index=y_tokenizer.word_index\n",
    "\n",
    "#print(target_word_index)\n"
   ]
  },
  {
   "cell_type": "code",
   "execution_count": 216,
   "id": "8671523a-4dfd-4b7c-92dd-e119b709d936",
   "metadata": {},
   "outputs": [
    {
     "name": "stdout",
     "output_type": "stream",
     "text": [
      "Story: washington accusation irs add one first opinion nonpartisan official agency went outside law conclusion tuesday official responsible managing historically important u record came congressional hearing republican also tried spotlight irs scandal include white house david head national archive record administration told house panel irs follow law failed tell agency loss email belonging former irs official lerner lerner email particularly senior manager far connected irs targeting tea party political group lerner retired last year refused testify congress constitutional right house charged contempt result lack testimony frustrated republican investigator week ago irs revealed lerner hard drive crashed 2011 destroying thousand email document agency insists missing email checking account irs employee lerner republican technical aspect crash well whether irs followed federal record keeping law better system electronic information law also require agency archive loss official record tuesday hearing house oversight committee followed contentious session monday night panel agency commissioner john questioning panel tuesday told lawmaker lerner email certainly federal record either temporary permanent said irs yet report loss hard drive email agency break law rep tim michigan republican asked im lawyer answered safely assume broke law followed follow law concluded white house official irs maintained realize full extent hard drive crash late april early may testified irs waited tell congress trying information could first hearing included testimony white house attorney jennifer oconnor worked irs may november 2013 oversight committee chairman issa oconnor white house initially said left irs agency knew hard drive crash could offer meaningful testimony agreed appear following set immediate tension california republican opened questioning accusing oconnor hostile witness demanding quick yes answer im definitely hostile answered almost voice eager cooperate ultimately issa say term hostile white house shed light lerner hard drive crash oconnor give one detailed public description yet irs initially responded congressional investigation tea party targeting process laid process find collect ten thousand email agency first irs material protected careful encryption oconnor said need would run search term congressional committee identified material done material would move review tool oconnor said acting irs commissioner dan directing agency turn document fully quickly possible response congressional request arrived oconnor saw irs resource place operation needed add people irs never anything like oconnor told panel didnt staff place kind document review production added agency also add significant server capacity handle request think record irs reflects hard work produce document oconnor concluded irs blasted lost hard drive apology agency chief key question controversy \n",
      "\u001b[31mOriginal summary: house committee another controversy national official say tell agency lost lost two year worth former \n",
      "\u001b[34mPredicted summary:  state belief several georgia belief several iran nation black black black black response black response black response black response black response black response black response response black response black response response tuesday call call great actress actress round actress round round witness witness black black response response black response black response black response black response black response black response black response response black response black response includes response 15 al black response black response response night call night call korean korean korean korean korean korean korean minority lawyer lawyer act act try iran increase twice didnt twice twice thousand twice remain source source israel girl north round round pilot thousand israel israel football includes response response pilot city eight storm document kill kill bridge bridge bridge recently bridge recently bridge recently problem ban issue strike strike daniel response response tuesday chris church movie church movie movie church movie really\n",
      "\u001b[0m\n",
      "\n",
      "\n",
      "Story: historic decision week american study association voted boycott israeli academic institution palestinian civil society call boycott sanction israel international law end abuse palestinian human right decision american study association group academic involved study u culture history boycott collaboration institution important one first major u academic group take step sends strong message israeli intellectual elite nation policy lead international isolation boycott sanction movement bd started palestinian political party trade union political movement 2005 include refugee palestinian occupied palestinian territory palestinian citizen israel legitimacy movement tactic come sharp focus light nelson mandela death struggle south africa apartheid today israel practice apartheid system unjust law gun human right one group palestinian aim keeping political power hand another demographic group israeli jew violation palestinian right include denial refugee restriction residency home destruction seizure land property restriction movement discrimination resource many supporter israel argument bd south african regime made decade ago perhaps common criticism israel worst regime world boycott based human right concern focus worst first single israel made movement south africa two stanford professor argued oped 1979 white south african often harsh dealing black people nothing like mass terror characteristic country many african south africa nothing mass ethnic minority war ii history country varied burma uganda india algeria poland angola south africa may engaged happened 1970s mean nation risen acted apartheid author oped say black never good apartheid black south africa wrote among best paid best educated black africa classic often echoed israel supporter argue palestinian israeli rule similarly compared arab effort distract israeli human right abuse pointing human right abuse elsewhere simply aimed criticism israel movement boycott sanction strategy part strategy proved armed struggle worked case south africa native population highly state backing western power led bloody repression palestinian negotiation acted cover continued israeli israeli use position stronger party backed united state impose palestinian palestinian reject unfair proposal promptly blamed absence peace despite occupied party second argument weve heard recent day bd vote american study association liberation organization chairman mahmoud abbas south africa mandela memorial said support boycott israeli settlement product boycott state israel israel supporter jumped comment argue endorse bd movement palestinian chairman useful boycott settlement occupied territory without state support israel colonial enterprise directed west bank corridor power inside israel government state provides funding defense infrastructure ensure israel settlement grow thrive settlement might biggest single challenge palestinian one system oppression feature range abuse discrimination denial refugee right make sense chairman would make remark abbas lead west bank palestinian authority engaged usled negotiation israel heavily western donor dollar pay employee security service funding past routinely used force time abbas even u israeli compromised independence palestinian authority decision making year abbas came full support bd hed immediately accused israeli counterpart might even get phone call u secretary state john kerry pay bill understood context abbas comment broader palestinian opinion bd rather product usled negotiation system make boycott sanction necessary bd growing 8 year old still movement victory however path continues likely method putting pressure israel end version apartheid year look back moment american study association decision look back today 1979 argument fighting south african apartheid well remember chose right side history opinion expressed commentary solely \n",
      "\u001b[31mOriginal summary: american study israeli good news like south africa israel practice denied right say african used israel \n",
      "\u001b[34mPredicted summary:  speech belief nation aid state announced uk message message hope reach message message hope message hope vocabulary vocabulary vocabulary vocabulary talk kill kill kill kill kill virus kill kill virus kill kill virus kill kill kill virus kill kill virus kill kill kill virus kill kill virus kill kill kill virus kill kill virus kill kill kill virus kill kill virus kill kill kill virus kill kill virus kill kill kill virus kill kill virus kill kill kill virus kill kill virus kill kill kill virus kill kill virus kill kill kill virus kill kill virus kill kill kill virus kill kill virus kill kill kill virus kill kill virus kill kill kill virus kill kill virus kill kill kill virus kill kill virus kill kill kill virus kill kill virus kill kill kill virus kill kill virus kill kill kill virus kill kill virus kill kill kill virus\n",
      "\u001b[0m\n",
      "\n",
      "\n",
      "Story: beijing china china economy grew 87 percent 2009 according national bureau statistic china fourth quarter growth alone percent basis china economy picking pace first three quarter year growing 62 percent first quarter 79 percent second quarter percent third quarter gross domestic product total 49 trillion 2009 annual growth spurred billion package bolster economy government set growth target rate 8 percent last year government see maintain employment rate nation 13 billion face severe impact brought global financial crisis century complicated domestic international situation government situation made scientific decision headed whole nation united one difficulty time said director national bureau statistic stopped remarkable decline china became first emerge recession retail sale rose percent 2009 china encourage domestic spending make lost export business recession concern rising growing property china fueled lending seen property price grow 50 percent city wednesday china several bank curb lending causing stock market globally question china lending practice slammed price commodity sector also hit report china intends slow pace lending year attempt get ahead inflation stronger dollar also commodity price stock china effort get bank le really hit commodity hard china buyer commodity said david head first american fund number released thursday showed foreign trade dropped percent china still hold significant trade billion though 34 percent monthly number december 2009 however \n",
      "\u001b[31mOriginal summary: china economy grew percent 2009 according national china percent concern rising china \n",
      "\u001b[34mPredicted summary:  state belief several georgia kill kill kill bridge bridge bridge body issue strike black black response black response black response black response black response black response black response black response black response black response black response black response black response black response black response black response black response black response black response black response black response black response black response black response black response black response black response black response black response black response black response black response black response black response black response black response black response black response black response black response black response black response black response black response black response black response black response black response black response black response black response black response black response black response black response black response black response black response black response black response black response black response black response black response black response black response black response black\n",
      "\u001b[0m\n",
      "\n",
      "\n",
      "Story: georgia rare order thursday seven judge georgia southern judicial circuit lawsuit filed parent johnson lowndes county sheriff office second action filed lowndes county school come le week twoyear anniversary discovery johnson body center rolled gym old gym lowndes high school january 11 2013 johnson parent kenneth johnson said never believed investigator conclusion 17yearold son died struggling reach shoe center believe son murdered month autopsy conducted state medical examiner supported local investigator conclusion johnson parent hired pathologist said found evidence force trauma johnson neck june 2013 attorney representing kenneth johnson sued lowndes county sheriff office get access department full investigative file copy school surveillance video recorded around time johnson disappeared according lawsuit department refusal release file violation georgia open record law chief judge harry jay ii ordered department release file video several day joined suit october 2013 november 2014 filed lawsuit lowndes county school get access hard drive containing original recording surveillance video given sheriff investigator lawsuit also claim recording public record school refusal release violation state open record law dispute yet resolved given fact official judge circuit deal everyday involved fair party judge circuit rule contested matter importance party community wrote letter addressed attorney representing party five seven judge georgia southern judicial circuit hear case regularly two senior judge hear case special assignment decision cut heart matter especially family get fair people look happened child fair decision peace night said johnson attorney benjamin request record case 18 month thursday hoped least preliminary matter would dealt see happening wrote normal process case assignment judicial result another judge assigned case following hearing scheduled decide matter court lowndes county sheriff office attorney jim told written statement attorney representing lowndes county school immediately respond cnns request comment georgia big state think atlanta one major city america im sure lot judge choose atlanta throughout state georgia hope find judge fair said cnns due contributed report \n",
      "\u001b[31mOriginal summary: parent filed suit investigation county georgia local judge say relationship official mean cant \n",
      "\u001b[34mPredicted summary:  state belief several georgia kill kill kill bridge bridge bridge body issue strike black black response black response black response black response black response black response black response black response black response black response black response black response black response response black response black response black response response black response black response black response response black response black response black response response black response black response black response response black response black response black response response black response black response black response response black response black response black response response black response black response black response response black response black response black response response black response black response black response response black response black response black response response black response black response black response response black response black response black response response black response black response black response response black response black response black response response black response black\n",
      "\u001b[0m\n",
      "\n",
      "\n",
      "Story: one life biggest question born knowing difference good evil taught moral belief parent society psychologist long believed baby born blank slate role parent society teach baby difference right wrong good bad mean nice growing number researcher believe differently believe baby fact born sense morality parent society help develop belief system baby dont create one team researcher yale university infant center known baby lab showed u came conclusion dr run baby lab team studying mind behavior baby decade eight year ago began running series study baby 24 month see much baby understand good bad behavior first test show baby example good behavior example bad behavior let baby decide like opinion baby know right wrong begin show show gray cat seen trying open big plastic box cat try repeatedly cant open way bunny green tshirt come along help open box scenario repeated time bunny orange tshirt come along slam box shut running away green bunny nice helpful orange bunny mean baby presented two bunny show staff member doesnt know bunny mean bunny nice offer bunny time baby baby mother usually present study close eye influence baby way bunny baby choose 80 baby study showed preference good bunny either reaching good bunny number go higher 87 tell u paul bloom author baby origin good evil professor psychology yale say study show even baby speak walk judge good bad action others born sense justice bloom married say sense justice limited although baby born sense morality also born flaw whats baby really thinking writes nature even hostile stranger towards emotional response notably spur u terrible thing including act genocide role parent society overcome limitation develop moral belief already exist baby mind study say baby capable making intelligent choice perhaps baby drawn certain color choose according placed team baby lab careful study change shirt color animal presenting various baby feel confident published research sound baby lab developed series study based simple premise baby simple understanding good bad study explore reward punishment compromise root \n",
      "\u001b[31mOriginal summary: university say baby right test show baby good character time come good parent must child one scientist \n",
      "\u001b[34mPredicted summary:  capital accused belief belief nation aid north uk government black black response black response black response black response black response black response black response black response black response black response black response response black response black response black response response tuesday call call korean korean korean korean korean korean korean korean helped helped policy christie penalty christie source source source israel girl north round iran penalty thousand israel football includes response response city document kill bridge bridge document bridge bridge recently bridge recently bridge recently problem un al customer customer expert iran expert case armstrong iran armstrong rape appeal appeal dangerous well muslim well 20 player kill kill kill kill kill bridge bridge recently bridge recently recently problem ban problem issue strike issue strike response response tuesday chris series city chinese kill kill kill bridge bridge bridge recently bridge recently bridge recently problem ban problem issue strike response response\n",
      "\u001b[0m\n",
      "\n",
      "\n",
      "Story: protester knocked statue vladimir sunday outrage mounted ukrainian government push closer tie russia crowd protester chanted good job statue fell kiev square monument hammer leaving piece statue scattered ground part soviet hero leg remained base man waving ukrainian flag stood atop beside police said investigating know know toppled monument ukraine government news agency said lawmaker party claimed responsibility incident end soviet occupation party twitter account said end regime shame humiliation numerous statue one leader russian revolution removed kiev recent year party attack statue sunday destroying monument kiev act party leader said according post party official website sign organizer protest european value rather hate fear destruction state ukraine statue sunday came 100000 protester took street kiev according police estimate pressure ukrainian president yanukovych turned away europe kiev suspended talk european union last month many ukrainian say eu agreement would opened border trade set stage modernization subsequent protest eastern european country biggest ukraine since socalled orange revolution nine year ago movement toppled government un secretarygeneral ban called yanukovych sunday told ukrainian president grave concern situation urging authority resort violence yanukovych told un chief consultation would initiated situation united nation said opposition leader failed force government resignation vote confidence parliament last week counting supporter voice discontent demonstrator capital independence square many camping weather demanded government ouster well early presidential parliamentary election russia call stability order others rallied outside cabinet office presidential office government office case building preventing employee working ten thousand antigovernment activist met noon kiev rally organizer hailed 1 million march hoping would 1 million people day went ukrainian opposition leader said close half million people street police put figure 100000 crowd ukrainian eu flag chanted ukraine europe held picture jailed chief political opponent tymoshenko statement posted official website tymoshenko called supporter keep demand believe strong inspired retreat wrote former prime minister ended hunger strike last week according opposition party prepared fact struggle long difficult instant victory impossible professional joint struggle chance finish victory opposition demand demonstrator held similar rally december 1 daily protest mainly peaceful also violence drawing condemnation western government crowd often size evening people leave work join protest speech rally protest leader called government resignation release protester arrested clash kiev punishment responsible using violence demonstrator appeal whole ukraine east west whole ukraine must rise declare strike power city town tomorrow said boxer klitschko opposition leader statement website ukrainian democratic alliance reform party opinion ukraine future lie eu russia ukraine russian president meet backdrop antigovernment protest yanukovych met russian president vladimir putin friday ukrainian president traveled china last week work meeting russian counterpart way back two president discussed current relation preparation upcoming meeting interstate commission moscow official statement putin office said one main reason decision eu talk russia threat trade sanction gas bill hike yanukovych also pressure eu free tymoshenko orange revolution swept office 2004 prime minister also swept tymoshenko power tymoshenko sentenced seven year prison 2011 convicted abuse authority natural gas deal russia 2009 united state europe see punishment politically motivated battle ukraine towards new game \n",
      "\u001b[31mOriginal summary: end party say party say statue show fear crowd good job statue hero fall talk european union last month \n",
      "\u001b[34mPredicted summary:  state belief several georgia belief earhart earhart earhart earhart earhart earhart earhart source source source source red israel girl catholic catholic russia russia russia proposed russia fan every campaign often amid every several iran early black black black black response black response black response black response black response black response black response includes 15 al black response night night parent weight call call great korean korean korean korean korean korean minority lawyer lawyer known rape study act act israel increase increase whether document response pilot city document 5 5 5 abroad abroad dangerous abroad problem daniel response response tuesday minute chris storm rape famous david rape appeal dangerous well due round document well arrest arrest georgia georgia computer black black black black daniel response response black response black response black response black response black response black response includes 15 al black response night response night call night night opportunity\n",
      "\u001b[0m\n",
      "\n",
      "\n",
      "Story: since appearing season 13 dancing star fan seen le bono plan keeping way bono lost 60 pound still losing told people weight loss result better eating habit exercise said diet dont work told magazine change eat includes meat fruit son cher said well cutting back grain 2005 bono participated celebrity fit club 3 gender surgery transformed bono reported november bono appeared doctor dr lose weight im always completely body bono said show really lived head kind tried ignore everything neck attending medium award past weekend bono said still dancing part exercise routine also includes art training \n",
      "\u001b[31mOriginal summary: say change helped weight new look medium award former star still \n",
      "\u001b[34mPredicted summary:  speech belief belief nation belief several iran nation black black black black black response black response black response black response black response black response black response black response black response black response black response black response black response black response black response black response black response black response black response black response black response black response black response black response black response black response black response black response black response black response black response black response black response black response black response black response black response black response black response black response black response black response black response black response black response black response black response black response black response black response black response black response black response black response black response black response black response black response black response black response black response black response black response black response black response black response black response black response black\n",
      "\u001b[0m\n",
      "\n",
      "\n",
      "Story: michael jackson sister janet thanked crowd bet award sunday night paying tribute late brother joe jackson father michael jackson bet award sunday los angeles california entire family wanted painful said holding back tear michael icon u michael family forever live heart bet award appreciation michael jackson died thursday age 50 watch janet jackson talk brother greatest star world joseph jackson father late entertainer said sunday night wish world recognized living joseph jackson told cnns lemon outside auditorium los angeles california right he bigger ever wish see hear asked circumstance surrounding son death said lot concern cant get dont like happened watch joe jackson bet award award opened new edition brown performing energized version jackson 5 hit love save praise host jamie wore red leather beat jacket opening best jackson backward across floor see photo show tribute addition mixed praise jackson comic relief wasnt michael jackson people like justin would selling valley actor said mean love ireportcom fan share love jackson year performer included beyonce cole artist performed tribute 1990s appearance act keith guy bell watch celebrity walk red carpet show included past present star trek starred film tv show show also honored ohio presented lifetime achievement award campbell performed classic forever mine johnny gill performed hit audience wondering older year among award winner atlanta singer nominated four category received best new artist beyonce best female artist l lee chairman chief executive officer black entertainment television said jackson death saddened energized award organizer heard news michael passing knew immediately wed change nature show said put show together matter three four day truly labor love u lee said \n",
      "\u001b[31mOriginal summary: even red talk michael jackson year show red jackson family wanted \n",
      "\u001b[34mPredicted summary:  state belief several georgia kill kill kill bridge bridge bridge body issue strike black black response black response black response black response black response black response black response black response black response black response black response response black response black response black response response black response black response response released al black reason response black response response tuesday call call great korean korean korean korean korean korean korean helped helped policy christie penalty christie source source well source israel israel girl north round round pilot penalty thousand israel football includes response response city document kill kill bridge bridge bridge recently bridge recently bridge recently problem response al tv parent tv message document church case document kill kill kill kill bridge bridge bridge recently bridge recently bridge body issue strike take take meeting letter message issue hope message hope medium medium medium red red share share share early rising fast\n",
      "\u001b[0m\n",
      "\n",
      "\n",
      "Story: tennis star maria sharapova handed honor becoming first woman carry russia flag opening ceremony olympic game 25yearold competing first olympics london 2012 play woman single tournament wasnt aware first woman personal honor representing russia told grateful support family friend fan home across globe im truly proud represent country full hope dream sharapova battled way back top woman tennis two year shoulder problem returning 1 world ranking career grand slam winning last month french open lost top spot victoria week surprise defeat fourth round wimbledon dropped 3 chance make olympic event also held famous venue year upcoming olympics london hold special meaning first game sharapova said remarkable opportunity compete historically prestigious sporting moment looking forward sharing olympic experience fellow athlete around world sharapova reportedly marry basketball star november end tennis season based united state life played three time russia fed cup team quarterfinal tie winning three four single rubber sharapova qualify 2004 olympics beijing despite winning first grand slam title wimbledon 17yearold missed beijing 2008 due injury elena since retired woman gold russia first took part summer olympics appear soviet union since honor carrying flag usually gone male gold year spain also tennis star men world 2 djokovic beijing champion rafael given role respective country \n",
      "\u001b[31mOriginal summary: named russia first woman olympics french open champion taking part first time london 2012 russia player despite 1 spot week based florida say country \n",
      "\u001b[34mPredicted summary:  state belief several georgia kill kill kill bridge bridge bridge body issue strike black black response black response black response black response black response black response black response black response black response black response black response black response black response black response black response black response black response black response black response black response black response black response black response black response black response black response black response black response black response black response black response black response black response black response black response black response black response black response black response black response black response black response black response black response black response black response black response black response black response black response black response black response black response black response black response black response black response black response black response black response black response black response black response black response black response black response black response black\n",
      "\u001b[0m\n",
      "\n",
      "\n",
      "Story: european union monday removed people iran list terrorist organization group remain eu list iranian police guard french embassy tehran january 25 protest eu decision main one japan responsible 1995 gas attack subway killed 12 wounded 5000 real separatist northern ireland responsible bombing 1998 killed 28 people al terrorist group indonesia one largest terrorist organization world carried nightclub bombing 2002 killed 200 tourist westerner kurdish worker party group fighting independent state turkish kurd palestinian islamic jihad militant group dedicated creation islamic palestinian state destruction israel palestinian islamic organization rule gaza military wing al admitted responsibility terrorist attack israeli civilian israeli military tamil tiger ethnic separatist fighting sri government responsible fatal attack soldier civilian since conflict government began 1983 basque separatist northern spain blamed 800 death thousand injury campaign farc revolutionary armed force colombia insurgent fighting government since 1960s cnns tom contributed list \n",
      "\u001b[31mOriginal summary: organization iran decade eu group order european court justice iran accused european union international law \n",
      "\u001b[34mPredicted summary:  speech belief belief nation belief several iran nation black black black black black response black response black response black response black response black response black response black response black response black response black response black response black response black response black response black response black response black response black response black response black response black response black response black response black response black response black response black response black response black response black response black response black response black response black response black response black response black response black response black response black response black response black response black response black response black response black response black response black response black response black response black response black response black response black response black response black response black response black response black response black response black response black response black response black response black response black response black response black\n",
      "\u001b[0m\n",
      "\n",
      "\n"
     ]
    }
   ],
   "source": [
    "import colorama\n",
    "from colorama import Fore, Style\n",
    "\n",
    "for i in range(0,10):\n",
    "    print(\"Story:\",seq2text(x_tr[i]))\n",
    "    print(Fore.RED + \"Original summary:\",seq2summary(y_tr[i]))\n",
    "    print(Fore.BLUE + \"Predicted summary:\",decode_sequence(x_tr[i].reshape(1,max_story_len)))\n",
    "    print(Style.RESET_ALL)\n",
    "    print(\"\\n\")"
   ]
  }
 ],
 "metadata": {
  "kernelspec": {
   "display_name": "Python 3 (ipykernel)",
   "language": "python",
   "name": "python3"
  },
  "language_info": {
   "codemirror_mode": {
    "name": "ipython",
    "version": 3
   },
   "file_extension": ".py",
   "mimetype": "text/x-python",
   "name": "python",
   "nbconvert_exporter": "python",
   "pygments_lexer": "ipython3",
   "version": "3.8.8"
  }
 },
 "nbformat": 4,
 "nbformat_minor": 5
}
